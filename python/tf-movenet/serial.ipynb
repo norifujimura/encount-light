{
 "cells": [
  {
   "cell_type": "markdown",
   "id": "c32c8d6f",
   "metadata": {},
   "source": [
    "https://qiita.com/umi_mori/items/757834e0ef75f38cea19\n"
   ]
  },
  {
   "cell_type": "code",
   "execution_count": 1,
   "id": "13068d0f",
   "metadata": {},
   "outputs": [
    {
     "name": "stdout",
     "output_type": "stream",
     "text": [
      "Requirement already satisfied: pyserial in /Users/nori/.pyenv/versions/3.9.16/lib/python3.9/site-packages (3.5)\r\n"
     ]
    }
   ],
   "source": [
    "! pip install pyserial"
   ]
  },
  {
   "cell_type": "code",
   "execution_count": 2,
   "id": "16bc5b16",
   "metadata": {},
   "outputs": [
    {
     "name": "stdout",
     "output_type": "stream",
     "text": [
      "crw-rw-rw-  1 root  wheel  0x900000a Feb  2 17:49 \u001b[34m\u001b[43m/dev/tty.Bluetooth-Incoming-Port\u001b[m\u001b[m\r\n",
      "crw-rw-rw-  1 root  wheel  0x9000008 Feb  2 17:49 \u001b[34m\u001b[43m/dev/tty.ESP32test2\u001b[m\u001b[m\r\n",
      "crw-rw-rw-  1 root  wheel  0x9000002 Feb  2 17:49 \u001b[34m\u001b[43m/dev/tty.JBLXtreme3\u001b[m\u001b[m\r\n",
      "crw-rw-rw-  1 root  wheel  0x9000006 Feb  2 17:49 \u001b[34m\u001b[43m/dev/tty.NorisPowerbeats\u001b[m\u001b[m\r\n",
      "crw-rw-rw-  1 root  wheel  0x9000004 Feb  2 17:49 \u001b[34m\u001b[43m/dev/tty.NoriyukiFujimurasSoloPro\u001b[m\u001b[m\r\n",
      "crw-rw-rw-  1 root  wheel  0x9000000 Feb  2 17:48 \u001b[34m\u001b[43m/dev/tty.wlan-debug\u001b[m\u001b[m\r\n"
     ]
    }
   ],
   "source": [
    "!  ls -l /dev/tty.*"
   ]
  },
  {
   "cell_type": "code",
   "execution_count": null,
   "id": "fd11dfc2",
   "metadata": {},
   "outputs": [],
   "source": [
    "import serial\n",
    "\n",
    "serialCommand = \"test\"\n",
    "writeSer = serial.Serial('/dev/tty.Bluetooth-Incoming-Port',9600, timeout=3)\n",
    "writeSer.write(serialCommand.encode())\n",
    "writeSer.close()"
   ]
  }
 ],
 "metadata": {
  "kernelspec": {
   "display_name": "Python 3 (ipykernel)",
   "language": "python",
   "name": "python3"
  },
  "language_info": {
   "codemirror_mode": {
    "name": "ipython",
    "version": 3
   },
   "file_extension": ".py",
   "mimetype": "text/x-python",
   "name": "python",
   "nbconvert_exporter": "python",
   "pygments_lexer": "ipython3",
   "version": "3.9.16"
  }
 },
 "nbformat": 4,
 "nbformat_minor": 5
}
