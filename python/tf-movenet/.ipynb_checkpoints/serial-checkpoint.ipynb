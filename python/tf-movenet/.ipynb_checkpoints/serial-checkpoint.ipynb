{
 "cells": [
  {
   "cell_type": "markdown",
   "id": "c32c8d6f",
   "metadata": {},
   "source": [
    "https://qiita.com/umi_mori/items/757834e0ef75f38cea19\n"
   ]
  },
  {
   "cell_type": "code",
   "execution_count": 1,
   "id": "13068d0f",
   "metadata": {},
   "outputs": [
    {
     "name": "stdout",
     "output_type": "stream",
     "text": [
      "Requirement already satisfied: pyserial in /Users/nori/.pyenv/versions/3.9.16/lib/python3.9/site-packages (3.5)\r\n"
     ]
    }
   ],
   "source": [
    "! pip install pyserial"
   ]
  },
  {
   "cell_type": "code",
   "execution_count": 6,
   "id": "16bc5b16",
   "metadata": {},
   "outputs": [
    {
     "name": "stdout",
     "output_type": "stream",
     "text": [
      "crw-rw-rw-  1 root  wheel  0x900000a Feb  5 19:05 \u001b[34m\u001b[43m/dev/tty.Bluetooth-Incoming-Port\u001b[m\u001b[m\r\n",
      "crw-rw-rw-  1 root  wheel  0x9000008 Feb  5 19:05 \u001b[34m\u001b[43m/dev/tty.ESP32test2\u001b[m\u001b[m\r\n",
      "crw-rw-rw-  1 root  wheel  0x9000002 Feb  5 19:05 \u001b[34m\u001b[43m/dev/tty.JBLXtreme3\u001b[m\u001b[m\r\n",
      "crw-rw-rw-  1 root  wheel  0x9000006 Feb  5 19:05 \u001b[34m\u001b[43m/dev/tty.NorisPowerbeats\u001b[m\u001b[m\r\n",
      "crw-rw-rw-  1 root  wheel  0x9000004 Feb  5 19:05 \u001b[34m\u001b[43m/dev/tty.NoriyukiFujimurasSoloPro\u001b[m\u001b[m\r\n",
      "crw-rw-rw-  1 root  wheel  0x900000c Feb  5 19:10 \u001b[34m\u001b[43m/dev/tty.usbserial-54BB0211361\u001b[m\u001b[m\r\n",
      "crw-rw-rw-  1 root  wheel  0x900000e Feb  5 19:10 \u001b[34m\u001b[43m/dev/tty.wchusbserial54BB0211361\u001b[m\u001b[m\r\n",
      "crw-rw-rw-  1 root  wheel  0x9000000 Feb  5 19:04 \u001b[34m\u001b[43m/dev/tty.wlan-debug\u001b[m\u001b[m\r\n"
     ]
    }
   ],
   "source": [
    "!  ls -l /dev/tty.*"
   ]
  },
  {
   "cell_type": "markdown",
   "id": "2d02ab80",
   "metadata": {},
   "source": [
    "## ASCII\n",
    "https://qiita.com/umi_mori/items/757834e0ef75f38cea19"
   ]
  },
  {
   "cell_type": "code",
   "execution_count": 9,
   "id": "fd11dfc2",
   "metadata": {},
   "outputs": [],
   "source": [
    "import serial\n",
    "\n",
    "serialCommand = \"test text\\n\"\n",
    "writeSer = serial.Serial('/dev/tty.wchusbserial54BB0211361',115200, timeout=3)\n",
    "writeSer.write(serialCommand.encode())\n",
    "writeSer.close()"
   ]
  },
  {
   "cell_type": "markdown",
   "id": "cc03c73e",
   "metadata": {},
   "source": [
    "## Binary\n",
    "https://qiita.com/Gyutan/items/150c9fac57f7380a1763\n",
    "LEDは1m６０個。　５m＝３００個　４色で１２００bytes"
   ]
  },
  {
   "cell_type": "markdown",
   "id": "55cc114f",
   "metadata": {},
   "source": [
    "配列の初期化　https://yu-nix.com/archives/python-array-init/"
   ]
  },
  {
   "cell_type": "code",
   "execution_count": 54,
   "id": "fbcb57b3",
   "metadata": {
    "scrolled": false
   },
   "outputs": [
    {
     "name": "stdout",
     "output_type": "stream",
     "text": [
      "[0, 0, 0, 0, 0, 0, 0, 0, 0, 0, 0, 0, 0, 0, 0, 0, 0, 0, 0, 0, 0, 0, 0, 0, 0, 0, 0, 0, 0, 0, 0, 0, 0, 0, 0, 0, 0, 0, 0, 0, 0, 0, 0, 0, 0, 0, 0, 0, 0, 0, 0, 0, 0, 0, 0, 0, 0, 0, 0, 0, 0, 0, 0, 0, 0, 0, 0, 0, 0, 0, 0, 0, 0, 0, 0, 0, 0, 0, 0, 0, 0, 0, 0, 0, 0, 0, 0, 0, 0, 0, 0, 0, 0, 0, 0, 0, 0, 0, 0, 0, 0]\n",
      "[0, 0, 0, 0, 0, 0, 0, 0, 254, 0, 0, 0, 0, 0, 0, 0, 0, 0, 0, 0, 0, 0, 0, 0, 0, 0, 0, 0, 0, 0, 0, 0, 0, 0, 0, 0, 0, 0, 0, 0, 0, 0, 0, 0, 0, 0, 0, 0, 0, 0, 0, 0, 0, 0, 0, 0, 0, 0, 0, 0, 0, 0, 0, 0, 0, 0, 0, 0, 0, 0, 0, 0, 0, 0, 0, 0, 0, 0, 0, 0, 0, 0, 0, 0, 0, 0, 0, 0, 0, 0, 0, 0, 0, 0, 0, 0, 0, 0, 0, 0, 255]\n",
      "---\n",
      "---\n"
     ]
    }
   ],
   "source": [
    "import serial\n",
    "\n",
    "length = 101\n",
    "data = [0] * length \n",
    "print(data)\n",
    "data[8] = 254\n",
    "data[(length-1)] = 255\n",
    "print(data)\n",
    "# convert list to bytearray\n",
    "send_binary =bytearray(data) \n",
    "\n",
    "# pyserialで送信\n",
    "with serial.Serial('/dev/tty.wchusbserial54BB0211361', 500000) as ser:\n",
    "    print('---')\n",
    "    ser.write(send_binary)\n",
    "    print('---')"
   ]
  },
  {
   "cell_type": "markdown",
   "id": "da7cf14f",
   "metadata": {},
   "source": [
    "## 　画面インタラクションで送る"
   ]
  },
  {
   "cell_type": "markdown",
   "id": "9ebd1551",
   "metadata": {},
   "source": [
    "cv2 マウスインタラクション https://rasp.hateblo.jp/entry/2016/01/24/204539"
   ]
  },
  {
   "cell_type": "markdown",
   "id": "133ed2cf",
   "metadata": {},
   "source": [
    "cv2 ウインドウ　https://dev.classmethod.jp/articles/open-and-close-an-image-in-a-window-in-opencv/"
   ]
  },
  {
   "cell_type": "markdown",
   "id": "d760dc81",
   "metadata": {},
   "source": [
    "cv２ウインドウ　気をつけること　https://dev.classmethod.jp/articles/importing-and-displaying-images-in-python-opencv/\n",
    "\n",
    "cv2 画像なしでウインドウを作る？　https://qiita.com/tokkuri/items/ab6eb4f97e08b4334e07\n"
   ]
  },
  {
   "cell_type": "code",
   "execution_count": 9,
   "id": "08076aba",
   "metadata": {},
   "outputs": [],
   "source": [
    "import cv2\n",
    "import numpy as np\n",
    "\n",
    "def mouse_event(event, x, y, flags, param):\n",
    "    #print(\"mosuse event\")\n",
    "    cv2.rectangle(canvas, (0,100), (300,200), (0, 0, 0), cv2.FILLED, cv2.LINE_AA)\n",
    "    cv2.rectangle(canvas, (x,100), (x+1,200), (127, 127, 127), cv2.FILLED, cv2.LINE_AA)\n",
    "    #cv2.circle(canvas, (x, y), 50, (0, 255, 255), -1)\n",
    "    cv2.imshow(\"X\", canvas)\n",
    "\n",
    "canvas = np.zeros((200,300,3), np.uint8)\n",
    "cv2.putText(canvas, \"hello\", (10, 30),\n",
    "               cv2.FONT_HERSHEY_PLAIN, 1.5,\n",
    "               (255, 255, 255), 1, cv2.LINE_AA)\n",
    "\n",
    "cv2.startWindowThread()\n",
    "cv2.imshow(\"X\", canvas)\n",
    "cv2.setMouseCallback(\"X\", mouse_event)\n",
    "key = cv2.waitKey(0)\n",
    "\n",
    "if key == ord('q'):            #qを押した時の処理\n",
    "    cv2.waitKey(1)\n",
    "    cv2.destroyAllWindows()  \n",
    "    cv2.waitKey(1)"
   ]
  },
  {
   "cell_type": "markdown",
   "id": "9228e69a",
   "metadata": {},
   "source": [
    "# notebookでのcv２のウインドウ閉じる方法\n",
    "https://qiita.com/kemako/items/fd72c65ca964a1b74fef"
   ]
  },
  {
   "cell_type": "markdown",
   "id": "7cdbb961",
   "metadata": {},
   "source": [
    "# Serialでマウス移動を送る"
   ]
  },
  {
   "cell_type": "code",
   "execution_count": 21,
   "id": "07313dac",
   "metadata": {},
   "outputs": [
    {
     "name": "stdout",
     "output_type": "stream",
     "text": [
      "/dev/tty.wchusbserial54BB0211361\n",
      "[0, 0, 0, 0, 0, 0, 0, 0, 0, 0, 0, 0, 0, 0, 0, 0, 0, 0, 0, 0, 0, 0, 0, 0, 0, 0, 0, 0, 0, 0, 0, 0, 0, 0, 0, 0, 0, 0, 0, 0, 0, 0, 0, 0, 0, 0, 0, 0, 0, 0, 0, 0, 0, 0, 0, 0, 0, 0, 0, 0, 0, 0, 0, 0, 0, 0, 0, 0, 0, 0, 0, 0, 0, 0, 0, 0, 0, 0, 0, 0, 0, 0, 0, 0, 0, 0, 0, 0, 0, 0, 0, 0, 0, 0, 0, 0, 0, 0, 0, 0, 0, 0, 0, 0, 0, 0, 0, 0, 0, 0, 0, 0, 0, 0, 0, 0, 0, 0, 0, 0, 0, 0, 0, 0, 0, 0, 0, 0, 0, 0, 0, 0, 0, 0, 0, 0, 0, 0, 0, 0, 0, 0, 0, 0, 0, 0, 0, 0, 0, 0, 0]\n",
      "[0, 0, 0, 0, 0, 0, 0, 0, 0, 0, 0, 0, 0, 0, 0, 0, 0, 0, 0, 0, 0, 0, 0, 0, 0, 0, 0, 0, 0, 0, 0, 0, 0, 0, 0, 0, 0, 0, 0, 0, 0, 0, 0, 0, 0, 0, 0, 0, 0, 0, 0, 0, 0, 0, 0, 0, 0, 0, 0, 0, 0, 0, 0, 0, 0, 0, 0, 0, 0, 0, 0, 0, 0, 0, 0, 0, 0, 0, 0, 0, 0, 0, 0, 0, 0, 0, 0, 0, 0, 0, 0, 0, 0, 0, 0, 0, 0, 0, 0, 0, 0, 0, 0, 0, 0, 0, 0, 0, 0, 0, 0, 0, 0, 0, 0, 0, 0, 0, 0, 0, 0, 0, 0, 0, 0, 0, 0, 0, 0, 0, 0, 0, 0, 0, 0, 0, 0, 0, 0, 0, 0, 0, 0, 0, 0, 0, 0, 0, 0, 0, 255]\n",
      "mouse event\n"
     ]
    },
    {
     "ename": "NameError",
     "evalue": "name 'text_location' is not defined",
     "output_type": "error",
     "traceback": [
      "\u001b[0;31m---------------------------------------------------------------------------\u001b[0m",
      "\u001b[0;31mNameError\u001b[0m                                 Traceback (most recent call last)",
      "Cell \u001b[0;32mIn[21], line 33\u001b[0m, in \u001b[0;36mmouse_event\u001b[0;34m(event, x, y, flags, param)\u001b[0m\n\u001b[1;32m     30\u001b[0m cv2\u001b[38;5;241m.\u001b[39mrectangle(canvas, (\u001b[38;5;241m0\u001b[39m,\u001b[38;5;241m50\u001b[39m), (\u001b[38;5;241m300\u001b[39m,\u001b[38;5;241m200\u001b[39m), (\u001b[38;5;241m0\u001b[39m, \u001b[38;5;241m0\u001b[39m, \u001b[38;5;241m0\u001b[39m), cv2\u001b[38;5;241m.\u001b[39mFILLED, cv2\u001b[38;5;241m.\u001b[39mLINE_AA)\n\u001b[1;32m     32\u001b[0m fps_text \u001b[38;5;241m=\u001b[39m \u001b[38;5;124m'\u001b[39m\u001b[38;5;124mFPS = \u001b[39m\u001b[38;5;124m'\u001b[39m \u001b[38;5;241m+\u001b[39m \u001b[38;5;28mstr\u001b[39m(\u001b[38;5;28mint\u001b[39m(fps))\n\u001b[0;32m---> 33\u001b[0m cv2\u001b[38;5;241m.\u001b[39mputText(canvas, fps_text, \u001b[43mtext_location\u001b[49m, cv2\u001b[38;5;241m.\u001b[39mFONT_HERSHEY_PLAIN,\n\u001b[1;32m     34\u001b[0m             \u001b[38;5;241m1\u001b[39m, (\u001b[38;5;241m0\u001b[39m, \u001b[38;5;241m0\u001b[39m, \u001b[38;5;241m255\u001b[39m), \u001b[38;5;241m1\u001b[39m)\n\u001b[1;32m     36\u001b[0m cv2\u001b[38;5;241m.\u001b[39mrectangle(canvas, (x,\u001b[38;5;241m100\u001b[39m), (x\u001b[38;5;241m+\u001b[39m\u001b[38;5;241m1\u001b[39m,\u001b[38;5;241m200\u001b[39m), (\u001b[38;5;241m127\u001b[39m, \u001b[38;5;241m127\u001b[39m, \u001b[38;5;241m127\u001b[39m), cv2\u001b[38;5;241m.\u001b[39mFILLED, cv2\u001b[38;5;241m.\u001b[39mLINE_AA)\n\u001b[1;32m     37\u001b[0m \u001b[38;5;66;03m#cv2.circle(canvas, (x, y), 50, (0, 255, 255), -1)\u001b[39;00m\n\u001b[1;32m     38\u001b[0m \u001b[38;5;66;03m#dispFps.disp(canvas)\u001b[39;00m\n",
      "\u001b[0;31mNameError\u001b[0m: name 'text_location' is not defined"
     ]
    },
    {
     "name": "stdout",
     "output_type": "stream",
     "text": [
      "mouse event\n"
     ]
    },
    {
     "ename": "NameError",
     "evalue": "name 'text_location' is not defined",
     "output_type": "error",
     "traceback": [
      "\u001b[0;31m---------------------------------------------------------------------------\u001b[0m",
      "\u001b[0;31mNameError\u001b[0m                                 Traceback (most recent call last)",
      "Cell \u001b[0;32mIn[21], line 33\u001b[0m, in \u001b[0;36mmouse_event\u001b[0;34m(event, x, y, flags, param)\u001b[0m\n\u001b[1;32m     30\u001b[0m cv2\u001b[38;5;241m.\u001b[39mrectangle(canvas, (\u001b[38;5;241m0\u001b[39m,\u001b[38;5;241m50\u001b[39m), (\u001b[38;5;241m300\u001b[39m,\u001b[38;5;241m200\u001b[39m), (\u001b[38;5;241m0\u001b[39m, \u001b[38;5;241m0\u001b[39m, \u001b[38;5;241m0\u001b[39m), cv2\u001b[38;5;241m.\u001b[39mFILLED, cv2\u001b[38;5;241m.\u001b[39mLINE_AA)\n\u001b[1;32m     32\u001b[0m fps_text \u001b[38;5;241m=\u001b[39m \u001b[38;5;124m'\u001b[39m\u001b[38;5;124mFPS = \u001b[39m\u001b[38;5;124m'\u001b[39m \u001b[38;5;241m+\u001b[39m \u001b[38;5;28mstr\u001b[39m(\u001b[38;5;28mint\u001b[39m(fps))\n\u001b[0;32m---> 33\u001b[0m cv2\u001b[38;5;241m.\u001b[39mputText(canvas, fps_text, \u001b[43mtext_location\u001b[49m, cv2\u001b[38;5;241m.\u001b[39mFONT_HERSHEY_PLAIN,\n\u001b[1;32m     34\u001b[0m             \u001b[38;5;241m1\u001b[39m, (\u001b[38;5;241m0\u001b[39m, \u001b[38;5;241m0\u001b[39m, \u001b[38;5;241m255\u001b[39m), \u001b[38;5;241m1\u001b[39m)\n\u001b[1;32m     36\u001b[0m cv2\u001b[38;5;241m.\u001b[39mrectangle(canvas, (x,\u001b[38;5;241m100\u001b[39m), (x\u001b[38;5;241m+\u001b[39m\u001b[38;5;241m1\u001b[39m,\u001b[38;5;241m200\u001b[39m), (\u001b[38;5;241m127\u001b[39m, \u001b[38;5;241m127\u001b[39m, \u001b[38;5;241m127\u001b[39m), cv2\u001b[38;5;241m.\u001b[39mFILLED, cv2\u001b[38;5;241m.\u001b[39mLINE_AA)\n\u001b[1;32m     37\u001b[0m \u001b[38;5;66;03m#cv2.circle(canvas, (x, y), 50, (0, 255, 255), -1)\u001b[39;00m\n\u001b[1;32m     38\u001b[0m \u001b[38;5;66;03m#dispFps.disp(canvas)\u001b[39;00m\n",
      "\u001b[0;31mNameError\u001b[0m: name 'text_location' is not defined"
     ]
    },
    {
     "name": "stdout",
     "output_type": "stream",
     "text": [
      "mouse event\n"
     ]
    },
    {
     "ename": "NameError",
     "evalue": "name 'text_location' is not defined",
     "output_type": "error",
     "traceback": [
      "\u001b[0;31m---------------------------------------------------------------------------\u001b[0m",
      "\u001b[0;31mNameError\u001b[0m                                 Traceback (most recent call last)",
      "Cell \u001b[0;32mIn[21], line 33\u001b[0m, in \u001b[0;36mmouse_event\u001b[0;34m(event, x, y, flags, param)\u001b[0m\n\u001b[1;32m     30\u001b[0m cv2\u001b[38;5;241m.\u001b[39mrectangle(canvas, (\u001b[38;5;241m0\u001b[39m,\u001b[38;5;241m50\u001b[39m), (\u001b[38;5;241m300\u001b[39m,\u001b[38;5;241m200\u001b[39m), (\u001b[38;5;241m0\u001b[39m, \u001b[38;5;241m0\u001b[39m, \u001b[38;5;241m0\u001b[39m), cv2\u001b[38;5;241m.\u001b[39mFILLED, cv2\u001b[38;5;241m.\u001b[39mLINE_AA)\n\u001b[1;32m     32\u001b[0m fps_text \u001b[38;5;241m=\u001b[39m \u001b[38;5;124m'\u001b[39m\u001b[38;5;124mFPS = \u001b[39m\u001b[38;5;124m'\u001b[39m \u001b[38;5;241m+\u001b[39m \u001b[38;5;28mstr\u001b[39m(\u001b[38;5;28mint\u001b[39m(fps))\n\u001b[0;32m---> 33\u001b[0m cv2\u001b[38;5;241m.\u001b[39mputText(canvas, fps_text, \u001b[43mtext_location\u001b[49m, cv2\u001b[38;5;241m.\u001b[39mFONT_HERSHEY_PLAIN,\n\u001b[1;32m     34\u001b[0m             \u001b[38;5;241m1\u001b[39m, (\u001b[38;5;241m0\u001b[39m, \u001b[38;5;241m0\u001b[39m, \u001b[38;5;241m255\u001b[39m), \u001b[38;5;241m1\u001b[39m)\n\u001b[1;32m     36\u001b[0m cv2\u001b[38;5;241m.\u001b[39mrectangle(canvas, (x,\u001b[38;5;241m100\u001b[39m), (x\u001b[38;5;241m+\u001b[39m\u001b[38;5;241m1\u001b[39m,\u001b[38;5;241m200\u001b[39m), (\u001b[38;5;241m127\u001b[39m, \u001b[38;5;241m127\u001b[39m, \u001b[38;5;241m127\u001b[39m), cv2\u001b[38;5;241m.\u001b[39mFILLED, cv2\u001b[38;5;241m.\u001b[39mLINE_AA)\n\u001b[1;32m     37\u001b[0m \u001b[38;5;66;03m#cv2.circle(canvas, (x, y), 50, (0, 255, 255), -1)\u001b[39;00m\n\u001b[1;32m     38\u001b[0m \u001b[38;5;66;03m#dispFps.disp(canvas)\u001b[39;00m\n",
      "\u001b[0;31mNameError\u001b[0m: name 'text_location' is not defined"
     ]
    },
    {
     "name": "stdout",
     "output_type": "stream",
     "text": [
      "mouse event\n"
     ]
    },
    {
     "ename": "NameError",
     "evalue": "name 'text_location' is not defined",
     "output_type": "error",
     "traceback": [
      "\u001b[0;31m---------------------------------------------------------------------------\u001b[0m",
      "\u001b[0;31mNameError\u001b[0m                                 Traceback (most recent call last)",
      "Cell \u001b[0;32mIn[21], line 33\u001b[0m, in \u001b[0;36mmouse_event\u001b[0;34m(event, x, y, flags, param)\u001b[0m\n\u001b[1;32m     30\u001b[0m cv2\u001b[38;5;241m.\u001b[39mrectangle(canvas, (\u001b[38;5;241m0\u001b[39m,\u001b[38;5;241m50\u001b[39m), (\u001b[38;5;241m300\u001b[39m,\u001b[38;5;241m200\u001b[39m), (\u001b[38;5;241m0\u001b[39m, \u001b[38;5;241m0\u001b[39m, \u001b[38;5;241m0\u001b[39m), cv2\u001b[38;5;241m.\u001b[39mFILLED, cv2\u001b[38;5;241m.\u001b[39mLINE_AA)\n\u001b[1;32m     32\u001b[0m fps_text \u001b[38;5;241m=\u001b[39m \u001b[38;5;124m'\u001b[39m\u001b[38;5;124mFPS = \u001b[39m\u001b[38;5;124m'\u001b[39m \u001b[38;5;241m+\u001b[39m \u001b[38;5;28mstr\u001b[39m(\u001b[38;5;28mint\u001b[39m(fps))\n\u001b[0;32m---> 33\u001b[0m cv2\u001b[38;5;241m.\u001b[39mputText(canvas, fps_text, \u001b[43mtext_location\u001b[49m, cv2\u001b[38;5;241m.\u001b[39mFONT_HERSHEY_PLAIN,\n\u001b[1;32m     34\u001b[0m             \u001b[38;5;241m1\u001b[39m, (\u001b[38;5;241m0\u001b[39m, \u001b[38;5;241m0\u001b[39m, \u001b[38;5;241m255\u001b[39m), \u001b[38;5;241m1\u001b[39m)\n\u001b[1;32m     36\u001b[0m cv2\u001b[38;5;241m.\u001b[39mrectangle(canvas, (x,\u001b[38;5;241m100\u001b[39m), (x\u001b[38;5;241m+\u001b[39m\u001b[38;5;241m1\u001b[39m,\u001b[38;5;241m200\u001b[39m), (\u001b[38;5;241m127\u001b[39m, \u001b[38;5;241m127\u001b[39m, \u001b[38;5;241m127\u001b[39m), cv2\u001b[38;5;241m.\u001b[39mFILLED, cv2\u001b[38;5;241m.\u001b[39mLINE_AA)\n\u001b[1;32m     37\u001b[0m \u001b[38;5;66;03m#cv2.circle(canvas, (x, y), 50, (0, 255, 255), -1)\u001b[39;00m\n\u001b[1;32m     38\u001b[0m \u001b[38;5;66;03m#dispFps.disp(canvas)\u001b[39;00m\n",
      "\u001b[0;31mNameError\u001b[0m: name 'text_location' is not defined"
     ]
    },
    {
     "name": "stdout",
     "output_type": "stream",
     "text": [
      "mouse event\n"
     ]
    },
    {
     "ename": "NameError",
     "evalue": "name 'text_location' is not defined",
     "output_type": "error",
     "traceback": [
      "\u001b[0;31m---------------------------------------------------------------------------\u001b[0m",
      "\u001b[0;31mNameError\u001b[0m                                 Traceback (most recent call last)",
      "Cell \u001b[0;32mIn[21], line 33\u001b[0m, in \u001b[0;36mmouse_event\u001b[0;34m(event, x, y, flags, param)\u001b[0m\n\u001b[1;32m     30\u001b[0m cv2\u001b[38;5;241m.\u001b[39mrectangle(canvas, (\u001b[38;5;241m0\u001b[39m,\u001b[38;5;241m50\u001b[39m), (\u001b[38;5;241m300\u001b[39m,\u001b[38;5;241m200\u001b[39m), (\u001b[38;5;241m0\u001b[39m, \u001b[38;5;241m0\u001b[39m, \u001b[38;5;241m0\u001b[39m), cv2\u001b[38;5;241m.\u001b[39mFILLED, cv2\u001b[38;5;241m.\u001b[39mLINE_AA)\n\u001b[1;32m     32\u001b[0m fps_text \u001b[38;5;241m=\u001b[39m \u001b[38;5;124m'\u001b[39m\u001b[38;5;124mFPS = \u001b[39m\u001b[38;5;124m'\u001b[39m \u001b[38;5;241m+\u001b[39m \u001b[38;5;28mstr\u001b[39m(\u001b[38;5;28mint\u001b[39m(fps))\n\u001b[0;32m---> 33\u001b[0m cv2\u001b[38;5;241m.\u001b[39mputText(canvas, fps_text, \u001b[43mtext_location\u001b[49m, cv2\u001b[38;5;241m.\u001b[39mFONT_HERSHEY_PLAIN,\n\u001b[1;32m     34\u001b[0m             \u001b[38;5;241m1\u001b[39m, (\u001b[38;5;241m0\u001b[39m, \u001b[38;5;241m0\u001b[39m, \u001b[38;5;241m255\u001b[39m), \u001b[38;5;241m1\u001b[39m)\n\u001b[1;32m     36\u001b[0m cv2\u001b[38;5;241m.\u001b[39mrectangle(canvas, (x,\u001b[38;5;241m100\u001b[39m), (x\u001b[38;5;241m+\u001b[39m\u001b[38;5;241m1\u001b[39m,\u001b[38;5;241m200\u001b[39m), (\u001b[38;5;241m127\u001b[39m, \u001b[38;5;241m127\u001b[39m, \u001b[38;5;241m127\u001b[39m), cv2\u001b[38;5;241m.\u001b[39mFILLED, cv2\u001b[38;5;241m.\u001b[39mLINE_AA)\n\u001b[1;32m     37\u001b[0m \u001b[38;5;66;03m#cv2.circle(canvas, (x, y), 50, (0, 255, 255), -1)\u001b[39;00m\n\u001b[1;32m     38\u001b[0m \u001b[38;5;66;03m#dispFps.disp(canvas)\u001b[39;00m\n",
      "\u001b[0;31mNameError\u001b[0m: name 'text_location' is not defined"
     ]
    },
    {
     "name": "stdout",
     "output_type": "stream",
     "text": [
      "mouse event\n"
     ]
    },
    {
     "ename": "NameError",
     "evalue": "name 'text_location' is not defined",
     "output_type": "error",
     "traceback": [
      "\u001b[0;31m---------------------------------------------------------------------------\u001b[0m",
      "\u001b[0;31mNameError\u001b[0m                                 Traceback (most recent call last)",
      "Cell \u001b[0;32mIn[21], line 33\u001b[0m, in \u001b[0;36mmouse_event\u001b[0;34m(event, x, y, flags, param)\u001b[0m\n\u001b[1;32m     30\u001b[0m cv2\u001b[38;5;241m.\u001b[39mrectangle(canvas, (\u001b[38;5;241m0\u001b[39m,\u001b[38;5;241m50\u001b[39m), (\u001b[38;5;241m300\u001b[39m,\u001b[38;5;241m200\u001b[39m), (\u001b[38;5;241m0\u001b[39m, \u001b[38;5;241m0\u001b[39m, \u001b[38;5;241m0\u001b[39m), cv2\u001b[38;5;241m.\u001b[39mFILLED, cv2\u001b[38;5;241m.\u001b[39mLINE_AA)\n\u001b[1;32m     32\u001b[0m fps_text \u001b[38;5;241m=\u001b[39m \u001b[38;5;124m'\u001b[39m\u001b[38;5;124mFPS = \u001b[39m\u001b[38;5;124m'\u001b[39m \u001b[38;5;241m+\u001b[39m \u001b[38;5;28mstr\u001b[39m(\u001b[38;5;28mint\u001b[39m(fps))\n\u001b[0;32m---> 33\u001b[0m cv2\u001b[38;5;241m.\u001b[39mputText(canvas, fps_text, \u001b[43mtext_location\u001b[49m, cv2\u001b[38;5;241m.\u001b[39mFONT_HERSHEY_PLAIN,\n\u001b[1;32m     34\u001b[0m             \u001b[38;5;241m1\u001b[39m, (\u001b[38;5;241m0\u001b[39m, \u001b[38;5;241m0\u001b[39m, \u001b[38;5;241m255\u001b[39m), \u001b[38;5;241m1\u001b[39m)\n\u001b[1;32m     36\u001b[0m cv2\u001b[38;5;241m.\u001b[39mrectangle(canvas, (x,\u001b[38;5;241m100\u001b[39m), (x\u001b[38;5;241m+\u001b[39m\u001b[38;5;241m1\u001b[39m,\u001b[38;5;241m200\u001b[39m), (\u001b[38;5;241m127\u001b[39m, \u001b[38;5;241m127\u001b[39m, \u001b[38;5;241m127\u001b[39m), cv2\u001b[38;5;241m.\u001b[39mFILLED, cv2\u001b[38;5;241m.\u001b[39mLINE_AA)\n\u001b[1;32m     37\u001b[0m \u001b[38;5;66;03m#cv2.circle(canvas, (x, y), 50, (0, 255, 255), -1)\u001b[39;00m\n\u001b[1;32m     38\u001b[0m \u001b[38;5;66;03m#dispFps.disp(canvas)\u001b[39;00m\n",
      "\u001b[0;31mNameError\u001b[0m: name 'text_location' is not defined"
     ]
    },
    {
     "name": "stdout",
     "output_type": "stream",
     "text": [
      "mouse event\n"
     ]
    },
    {
     "ename": "NameError",
     "evalue": "name 'text_location' is not defined",
     "output_type": "error",
     "traceback": [
      "\u001b[0;31m---------------------------------------------------------------------------\u001b[0m",
      "\u001b[0;31mNameError\u001b[0m                                 Traceback (most recent call last)",
      "Cell \u001b[0;32mIn[21], line 33\u001b[0m, in \u001b[0;36mmouse_event\u001b[0;34m(event, x, y, flags, param)\u001b[0m\n\u001b[1;32m     30\u001b[0m cv2\u001b[38;5;241m.\u001b[39mrectangle(canvas, (\u001b[38;5;241m0\u001b[39m,\u001b[38;5;241m50\u001b[39m), (\u001b[38;5;241m300\u001b[39m,\u001b[38;5;241m200\u001b[39m), (\u001b[38;5;241m0\u001b[39m, \u001b[38;5;241m0\u001b[39m, \u001b[38;5;241m0\u001b[39m), cv2\u001b[38;5;241m.\u001b[39mFILLED, cv2\u001b[38;5;241m.\u001b[39mLINE_AA)\n\u001b[1;32m     32\u001b[0m fps_text \u001b[38;5;241m=\u001b[39m \u001b[38;5;124m'\u001b[39m\u001b[38;5;124mFPS = \u001b[39m\u001b[38;5;124m'\u001b[39m \u001b[38;5;241m+\u001b[39m \u001b[38;5;28mstr\u001b[39m(\u001b[38;5;28mint\u001b[39m(fps))\n\u001b[0;32m---> 33\u001b[0m cv2\u001b[38;5;241m.\u001b[39mputText(canvas, fps_text, \u001b[43mtext_location\u001b[49m, cv2\u001b[38;5;241m.\u001b[39mFONT_HERSHEY_PLAIN,\n\u001b[1;32m     34\u001b[0m             \u001b[38;5;241m1\u001b[39m, (\u001b[38;5;241m0\u001b[39m, \u001b[38;5;241m0\u001b[39m, \u001b[38;5;241m255\u001b[39m), \u001b[38;5;241m1\u001b[39m)\n\u001b[1;32m     36\u001b[0m cv2\u001b[38;5;241m.\u001b[39mrectangle(canvas, (x,\u001b[38;5;241m100\u001b[39m), (x\u001b[38;5;241m+\u001b[39m\u001b[38;5;241m1\u001b[39m,\u001b[38;5;241m200\u001b[39m), (\u001b[38;5;241m127\u001b[39m, \u001b[38;5;241m127\u001b[39m, \u001b[38;5;241m127\u001b[39m), cv2\u001b[38;5;241m.\u001b[39mFILLED, cv2\u001b[38;5;241m.\u001b[39mLINE_AA)\n\u001b[1;32m     37\u001b[0m \u001b[38;5;66;03m#cv2.circle(canvas, (x, y), 50, (0, 255, 255), -1)\u001b[39;00m\n\u001b[1;32m     38\u001b[0m \u001b[38;5;66;03m#dispFps.disp(canvas)\u001b[39;00m\n",
      "\u001b[0;31mNameError\u001b[0m: name 'text_location' is not defined"
     ]
    },
    {
     "name": "stdout",
     "output_type": "stream",
     "text": [
      "mouse event\n"
     ]
    },
    {
     "ename": "NameError",
     "evalue": "name 'text_location' is not defined",
     "output_type": "error",
     "traceback": [
      "\u001b[0;31m---------------------------------------------------------------------------\u001b[0m",
      "\u001b[0;31mNameError\u001b[0m                                 Traceback (most recent call last)",
      "Cell \u001b[0;32mIn[21], line 33\u001b[0m, in \u001b[0;36mmouse_event\u001b[0;34m(event, x, y, flags, param)\u001b[0m\n\u001b[1;32m     30\u001b[0m cv2\u001b[38;5;241m.\u001b[39mrectangle(canvas, (\u001b[38;5;241m0\u001b[39m,\u001b[38;5;241m50\u001b[39m), (\u001b[38;5;241m300\u001b[39m,\u001b[38;5;241m200\u001b[39m), (\u001b[38;5;241m0\u001b[39m, \u001b[38;5;241m0\u001b[39m, \u001b[38;5;241m0\u001b[39m), cv2\u001b[38;5;241m.\u001b[39mFILLED, cv2\u001b[38;5;241m.\u001b[39mLINE_AA)\n\u001b[1;32m     32\u001b[0m fps_text \u001b[38;5;241m=\u001b[39m \u001b[38;5;124m'\u001b[39m\u001b[38;5;124mFPS = \u001b[39m\u001b[38;5;124m'\u001b[39m \u001b[38;5;241m+\u001b[39m \u001b[38;5;28mstr\u001b[39m(\u001b[38;5;28mint\u001b[39m(fps))\n\u001b[0;32m---> 33\u001b[0m cv2\u001b[38;5;241m.\u001b[39mputText(canvas, fps_text, \u001b[43mtext_location\u001b[49m, cv2\u001b[38;5;241m.\u001b[39mFONT_HERSHEY_PLAIN,\n\u001b[1;32m     34\u001b[0m             \u001b[38;5;241m1\u001b[39m, (\u001b[38;5;241m0\u001b[39m, \u001b[38;5;241m0\u001b[39m, \u001b[38;5;241m255\u001b[39m), \u001b[38;5;241m1\u001b[39m)\n\u001b[1;32m     36\u001b[0m cv2\u001b[38;5;241m.\u001b[39mrectangle(canvas, (x,\u001b[38;5;241m100\u001b[39m), (x\u001b[38;5;241m+\u001b[39m\u001b[38;5;241m1\u001b[39m,\u001b[38;5;241m200\u001b[39m), (\u001b[38;5;241m127\u001b[39m, \u001b[38;5;241m127\u001b[39m, \u001b[38;5;241m127\u001b[39m), cv2\u001b[38;5;241m.\u001b[39mFILLED, cv2\u001b[38;5;241m.\u001b[39mLINE_AA)\n\u001b[1;32m     37\u001b[0m \u001b[38;5;66;03m#cv2.circle(canvas, (x, y), 50, (0, 255, 255), -1)\u001b[39;00m\n\u001b[1;32m     38\u001b[0m \u001b[38;5;66;03m#dispFps.disp(canvas)\u001b[39;00m\n",
      "\u001b[0;31mNameError\u001b[0m: name 'text_location' is not defined"
     ]
    },
    {
     "name": "stdout",
     "output_type": "stream",
     "text": [
      "mouse event\n"
     ]
    },
    {
     "ename": "NameError",
     "evalue": "name 'text_location' is not defined",
     "output_type": "error",
     "traceback": [
      "\u001b[0;31m---------------------------------------------------------------------------\u001b[0m",
      "\u001b[0;31mNameError\u001b[0m                                 Traceback (most recent call last)",
      "Cell \u001b[0;32mIn[21], line 33\u001b[0m, in \u001b[0;36mmouse_event\u001b[0;34m(event, x, y, flags, param)\u001b[0m\n\u001b[1;32m     30\u001b[0m cv2\u001b[38;5;241m.\u001b[39mrectangle(canvas, (\u001b[38;5;241m0\u001b[39m,\u001b[38;5;241m50\u001b[39m), (\u001b[38;5;241m300\u001b[39m,\u001b[38;5;241m200\u001b[39m), (\u001b[38;5;241m0\u001b[39m, \u001b[38;5;241m0\u001b[39m, \u001b[38;5;241m0\u001b[39m), cv2\u001b[38;5;241m.\u001b[39mFILLED, cv2\u001b[38;5;241m.\u001b[39mLINE_AA)\n\u001b[1;32m     32\u001b[0m fps_text \u001b[38;5;241m=\u001b[39m \u001b[38;5;124m'\u001b[39m\u001b[38;5;124mFPS = \u001b[39m\u001b[38;5;124m'\u001b[39m \u001b[38;5;241m+\u001b[39m \u001b[38;5;28mstr\u001b[39m(\u001b[38;5;28mint\u001b[39m(fps))\n\u001b[0;32m---> 33\u001b[0m cv2\u001b[38;5;241m.\u001b[39mputText(canvas, fps_text, \u001b[43mtext_location\u001b[49m, cv2\u001b[38;5;241m.\u001b[39mFONT_HERSHEY_PLAIN,\n\u001b[1;32m     34\u001b[0m             \u001b[38;5;241m1\u001b[39m, (\u001b[38;5;241m0\u001b[39m, \u001b[38;5;241m0\u001b[39m, \u001b[38;5;241m255\u001b[39m), \u001b[38;5;241m1\u001b[39m)\n\u001b[1;32m     36\u001b[0m cv2\u001b[38;5;241m.\u001b[39mrectangle(canvas, (x,\u001b[38;5;241m100\u001b[39m), (x\u001b[38;5;241m+\u001b[39m\u001b[38;5;241m1\u001b[39m,\u001b[38;5;241m200\u001b[39m), (\u001b[38;5;241m127\u001b[39m, \u001b[38;5;241m127\u001b[39m, \u001b[38;5;241m127\u001b[39m), cv2\u001b[38;5;241m.\u001b[39mFILLED, cv2\u001b[38;5;241m.\u001b[39mLINE_AA)\n\u001b[1;32m     37\u001b[0m \u001b[38;5;66;03m#cv2.circle(canvas, (x, y), 50, (0, 255, 255), -1)\u001b[39;00m\n\u001b[1;32m     38\u001b[0m \u001b[38;5;66;03m#dispFps.disp(canvas)\u001b[39;00m\n",
      "\u001b[0;31mNameError\u001b[0m: name 'text_location' is not defined"
     ]
    },
    {
     "name": "stdout",
     "output_type": "stream",
     "text": [
      "mouse event\n"
     ]
    },
    {
     "ename": "NameError",
     "evalue": "name 'text_location' is not defined",
     "output_type": "error",
     "traceback": [
      "\u001b[0;31m---------------------------------------------------------------------------\u001b[0m",
      "\u001b[0;31mNameError\u001b[0m                                 Traceback (most recent call last)",
      "Cell \u001b[0;32mIn[21], line 33\u001b[0m, in \u001b[0;36mmouse_event\u001b[0;34m(event, x, y, flags, param)\u001b[0m\n\u001b[1;32m     30\u001b[0m cv2\u001b[38;5;241m.\u001b[39mrectangle(canvas, (\u001b[38;5;241m0\u001b[39m,\u001b[38;5;241m50\u001b[39m), (\u001b[38;5;241m300\u001b[39m,\u001b[38;5;241m200\u001b[39m), (\u001b[38;5;241m0\u001b[39m, \u001b[38;5;241m0\u001b[39m, \u001b[38;5;241m0\u001b[39m), cv2\u001b[38;5;241m.\u001b[39mFILLED, cv2\u001b[38;5;241m.\u001b[39mLINE_AA)\n\u001b[1;32m     32\u001b[0m fps_text \u001b[38;5;241m=\u001b[39m \u001b[38;5;124m'\u001b[39m\u001b[38;5;124mFPS = \u001b[39m\u001b[38;5;124m'\u001b[39m \u001b[38;5;241m+\u001b[39m \u001b[38;5;28mstr\u001b[39m(\u001b[38;5;28mint\u001b[39m(fps))\n\u001b[0;32m---> 33\u001b[0m cv2\u001b[38;5;241m.\u001b[39mputText(canvas, fps_text, \u001b[43mtext_location\u001b[49m, cv2\u001b[38;5;241m.\u001b[39mFONT_HERSHEY_PLAIN,\n\u001b[1;32m     34\u001b[0m             \u001b[38;5;241m1\u001b[39m, (\u001b[38;5;241m0\u001b[39m, \u001b[38;5;241m0\u001b[39m, \u001b[38;5;241m255\u001b[39m), \u001b[38;5;241m1\u001b[39m)\n\u001b[1;32m     36\u001b[0m cv2\u001b[38;5;241m.\u001b[39mrectangle(canvas, (x,\u001b[38;5;241m100\u001b[39m), (x\u001b[38;5;241m+\u001b[39m\u001b[38;5;241m1\u001b[39m,\u001b[38;5;241m200\u001b[39m), (\u001b[38;5;241m127\u001b[39m, \u001b[38;5;241m127\u001b[39m, \u001b[38;5;241m127\u001b[39m), cv2\u001b[38;5;241m.\u001b[39mFILLED, cv2\u001b[38;5;241m.\u001b[39mLINE_AA)\n\u001b[1;32m     37\u001b[0m \u001b[38;5;66;03m#cv2.circle(canvas, (x, y), 50, (0, 255, 255), -1)\u001b[39;00m\n\u001b[1;32m     38\u001b[0m \u001b[38;5;66;03m#dispFps.disp(canvas)\u001b[39;00m\n",
      "\u001b[0;31mNameError\u001b[0m: name 'text_location' is not defined"
     ]
    },
    {
     "name": "stdout",
     "output_type": "stream",
     "text": [
      "mouse event\n"
     ]
    },
    {
     "ename": "NameError",
     "evalue": "name 'text_location' is not defined",
     "output_type": "error",
     "traceback": [
      "\u001b[0;31m---------------------------------------------------------------------------\u001b[0m",
      "\u001b[0;31mNameError\u001b[0m                                 Traceback (most recent call last)",
      "Cell \u001b[0;32mIn[21], line 33\u001b[0m, in \u001b[0;36mmouse_event\u001b[0;34m(event, x, y, flags, param)\u001b[0m\n\u001b[1;32m     30\u001b[0m cv2\u001b[38;5;241m.\u001b[39mrectangle(canvas, (\u001b[38;5;241m0\u001b[39m,\u001b[38;5;241m50\u001b[39m), (\u001b[38;5;241m300\u001b[39m,\u001b[38;5;241m200\u001b[39m), (\u001b[38;5;241m0\u001b[39m, \u001b[38;5;241m0\u001b[39m, \u001b[38;5;241m0\u001b[39m), cv2\u001b[38;5;241m.\u001b[39mFILLED, cv2\u001b[38;5;241m.\u001b[39mLINE_AA)\n\u001b[1;32m     32\u001b[0m fps_text \u001b[38;5;241m=\u001b[39m \u001b[38;5;124m'\u001b[39m\u001b[38;5;124mFPS = \u001b[39m\u001b[38;5;124m'\u001b[39m \u001b[38;5;241m+\u001b[39m \u001b[38;5;28mstr\u001b[39m(\u001b[38;5;28mint\u001b[39m(fps))\n\u001b[0;32m---> 33\u001b[0m cv2\u001b[38;5;241m.\u001b[39mputText(canvas, fps_text, \u001b[43mtext_location\u001b[49m, cv2\u001b[38;5;241m.\u001b[39mFONT_HERSHEY_PLAIN,\n\u001b[1;32m     34\u001b[0m             \u001b[38;5;241m1\u001b[39m, (\u001b[38;5;241m0\u001b[39m, \u001b[38;5;241m0\u001b[39m, \u001b[38;5;241m255\u001b[39m), \u001b[38;5;241m1\u001b[39m)\n\u001b[1;32m     36\u001b[0m cv2\u001b[38;5;241m.\u001b[39mrectangle(canvas, (x,\u001b[38;5;241m100\u001b[39m), (x\u001b[38;5;241m+\u001b[39m\u001b[38;5;241m1\u001b[39m,\u001b[38;5;241m200\u001b[39m), (\u001b[38;5;241m127\u001b[39m, \u001b[38;5;241m127\u001b[39m, \u001b[38;5;241m127\u001b[39m), cv2\u001b[38;5;241m.\u001b[39mFILLED, cv2\u001b[38;5;241m.\u001b[39mLINE_AA)\n\u001b[1;32m     37\u001b[0m \u001b[38;5;66;03m#cv2.circle(canvas, (x, y), 50, (0, 255, 255), -1)\u001b[39;00m\n\u001b[1;32m     38\u001b[0m \u001b[38;5;66;03m#dispFps.disp(canvas)\u001b[39;00m\n",
      "\u001b[0;31mNameError\u001b[0m: name 'text_location' is not defined"
     ]
    },
    {
     "name": "stdout",
     "output_type": "stream",
     "text": [
      "mouse event\n"
     ]
    },
    {
     "ename": "NameError",
     "evalue": "name 'text_location' is not defined",
     "output_type": "error",
     "traceback": [
      "\u001b[0;31m---------------------------------------------------------------------------\u001b[0m",
      "\u001b[0;31mNameError\u001b[0m                                 Traceback (most recent call last)",
      "Cell \u001b[0;32mIn[21], line 33\u001b[0m, in \u001b[0;36mmouse_event\u001b[0;34m(event, x, y, flags, param)\u001b[0m\n\u001b[1;32m     30\u001b[0m cv2\u001b[38;5;241m.\u001b[39mrectangle(canvas, (\u001b[38;5;241m0\u001b[39m,\u001b[38;5;241m50\u001b[39m), (\u001b[38;5;241m300\u001b[39m,\u001b[38;5;241m200\u001b[39m), (\u001b[38;5;241m0\u001b[39m, \u001b[38;5;241m0\u001b[39m, \u001b[38;5;241m0\u001b[39m), cv2\u001b[38;5;241m.\u001b[39mFILLED, cv2\u001b[38;5;241m.\u001b[39mLINE_AA)\n\u001b[1;32m     32\u001b[0m fps_text \u001b[38;5;241m=\u001b[39m \u001b[38;5;124m'\u001b[39m\u001b[38;5;124mFPS = \u001b[39m\u001b[38;5;124m'\u001b[39m \u001b[38;5;241m+\u001b[39m \u001b[38;5;28mstr\u001b[39m(\u001b[38;5;28mint\u001b[39m(fps))\n\u001b[0;32m---> 33\u001b[0m cv2\u001b[38;5;241m.\u001b[39mputText(canvas, fps_text, \u001b[43mtext_location\u001b[49m, cv2\u001b[38;5;241m.\u001b[39mFONT_HERSHEY_PLAIN,\n\u001b[1;32m     34\u001b[0m             \u001b[38;5;241m1\u001b[39m, (\u001b[38;5;241m0\u001b[39m, \u001b[38;5;241m0\u001b[39m, \u001b[38;5;241m255\u001b[39m), \u001b[38;5;241m1\u001b[39m)\n\u001b[1;32m     36\u001b[0m cv2\u001b[38;5;241m.\u001b[39mrectangle(canvas, (x,\u001b[38;5;241m100\u001b[39m), (x\u001b[38;5;241m+\u001b[39m\u001b[38;5;241m1\u001b[39m,\u001b[38;5;241m200\u001b[39m), (\u001b[38;5;241m127\u001b[39m, \u001b[38;5;241m127\u001b[39m, \u001b[38;5;241m127\u001b[39m), cv2\u001b[38;5;241m.\u001b[39mFILLED, cv2\u001b[38;5;241m.\u001b[39mLINE_AA)\n\u001b[1;32m     37\u001b[0m \u001b[38;5;66;03m#cv2.circle(canvas, (x, y), 50, (0, 255, 255), -1)\u001b[39;00m\n\u001b[1;32m     38\u001b[0m \u001b[38;5;66;03m#dispFps.disp(canvas)\u001b[39;00m\n",
      "\u001b[0;31mNameError\u001b[0m: name 'text_location' is not defined"
     ]
    },
    {
     "name": "stdout",
     "output_type": "stream",
     "text": [
      "mouse event\n"
     ]
    },
    {
     "ename": "NameError",
     "evalue": "name 'text_location' is not defined",
     "output_type": "error",
     "traceback": [
      "\u001b[0;31m---------------------------------------------------------------------------\u001b[0m",
      "\u001b[0;31mNameError\u001b[0m                                 Traceback (most recent call last)",
      "Cell \u001b[0;32mIn[21], line 33\u001b[0m, in \u001b[0;36mmouse_event\u001b[0;34m(event, x, y, flags, param)\u001b[0m\n\u001b[1;32m     30\u001b[0m cv2\u001b[38;5;241m.\u001b[39mrectangle(canvas, (\u001b[38;5;241m0\u001b[39m,\u001b[38;5;241m50\u001b[39m), (\u001b[38;5;241m300\u001b[39m,\u001b[38;5;241m200\u001b[39m), (\u001b[38;5;241m0\u001b[39m, \u001b[38;5;241m0\u001b[39m, \u001b[38;5;241m0\u001b[39m), cv2\u001b[38;5;241m.\u001b[39mFILLED, cv2\u001b[38;5;241m.\u001b[39mLINE_AA)\n\u001b[1;32m     32\u001b[0m fps_text \u001b[38;5;241m=\u001b[39m \u001b[38;5;124m'\u001b[39m\u001b[38;5;124mFPS = \u001b[39m\u001b[38;5;124m'\u001b[39m \u001b[38;5;241m+\u001b[39m \u001b[38;5;28mstr\u001b[39m(\u001b[38;5;28mint\u001b[39m(fps))\n\u001b[0;32m---> 33\u001b[0m cv2\u001b[38;5;241m.\u001b[39mputText(canvas, fps_text, \u001b[43mtext_location\u001b[49m, cv2\u001b[38;5;241m.\u001b[39mFONT_HERSHEY_PLAIN,\n\u001b[1;32m     34\u001b[0m             \u001b[38;5;241m1\u001b[39m, (\u001b[38;5;241m0\u001b[39m, \u001b[38;5;241m0\u001b[39m, \u001b[38;5;241m255\u001b[39m), \u001b[38;5;241m1\u001b[39m)\n\u001b[1;32m     36\u001b[0m cv2\u001b[38;5;241m.\u001b[39mrectangle(canvas, (x,\u001b[38;5;241m100\u001b[39m), (x\u001b[38;5;241m+\u001b[39m\u001b[38;5;241m1\u001b[39m,\u001b[38;5;241m200\u001b[39m), (\u001b[38;5;241m127\u001b[39m, \u001b[38;5;241m127\u001b[39m, \u001b[38;5;241m127\u001b[39m), cv2\u001b[38;5;241m.\u001b[39mFILLED, cv2\u001b[38;5;241m.\u001b[39mLINE_AA)\n\u001b[1;32m     37\u001b[0m \u001b[38;5;66;03m#cv2.circle(canvas, (x, y), 50, (0, 255, 255), -1)\u001b[39;00m\n\u001b[1;32m     38\u001b[0m \u001b[38;5;66;03m#dispFps.disp(canvas)\u001b[39;00m\n",
      "\u001b[0;31mNameError\u001b[0m: name 'text_location' is not defined"
     ]
    },
    {
     "name": "stdout",
     "output_type": "stream",
     "text": [
      "mouse event\n"
     ]
    },
    {
     "ename": "NameError",
     "evalue": "name 'text_location' is not defined",
     "output_type": "error",
     "traceback": [
      "\u001b[0;31m---------------------------------------------------------------------------\u001b[0m",
      "\u001b[0;31mNameError\u001b[0m                                 Traceback (most recent call last)",
      "Cell \u001b[0;32mIn[21], line 33\u001b[0m, in \u001b[0;36mmouse_event\u001b[0;34m(event, x, y, flags, param)\u001b[0m\n\u001b[1;32m     30\u001b[0m cv2\u001b[38;5;241m.\u001b[39mrectangle(canvas, (\u001b[38;5;241m0\u001b[39m,\u001b[38;5;241m50\u001b[39m), (\u001b[38;5;241m300\u001b[39m,\u001b[38;5;241m200\u001b[39m), (\u001b[38;5;241m0\u001b[39m, \u001b[38;5;241m0\u001b[39m, \u001b[38;5;241m0\u001b[39m), cv2\u001b[38;5;241m.\u001b[39mFILLED, cv2\u001b[38;5;241m.\u001b[39mLINE_AA)\n\u001b[1;32m     32\u001b[0m fps_text \u001b[38;5;241m=\u001b[39m \u001b[38;5;124m'\u001b[39m\u001b[38;5;124mFPS = \u001b[39m\u001b[38;5;124m'\u001b[39m \u001b[38;5;241m+\u001b[39m \u001b[38;5;28mstr\u001b[39m(\u001b[38;5;28mint\u001b[39m(fps))\n\u001b[0;32m---> 33\u001b[0m cv2\u001b[38;5;241m.\u001b[39mputText(canvas, fps_text, \u001b[43mtext_location\u001b[49m, cv2\u001b[38;5;241m.\u001b[39mFONT_HERSHEY_PLAIN,\n\u001b[1;32m     34\u001b[0m             \u001b[38;5;241m1\u001b[39m, (\u001b[38;5;241m0\u001b[39m, \u001b[38;5;241m0\u001b[39m, \u001b[38;5;241m255\u001b[39m), \u001b[38;5;241m1\u001b[39m)\n\u001b[1;32m     36\u001b[0m cv2\u001b[38;5;241m.\u001b[39mrectangle(canvas, (x,\u001b[38;5;241m100\u001b[39m), (x\u001b[38;5;241m+\u001b[39m\u001b[38;5;241m1\u001b[39m,\u001b[38;5;241m200\u001b[39m), (\u001b[38;5;241m127\u001b[39m, \u001b[38;5;241m127\u001b[39m, \u001b[38;5;241m127\u001b[39m), cv2\u001b[38;5;241m.\u001b[39mFILLED, cv2\u001b[38;5;241m.\u001b[39mLINE_AA)\n\u001b[1;32m     37\u001b[0m \u001b[38;5;66;03m#cv2.circle(canvas, (x, y), 50, (0, 255, 255), -1)\u001b[39;00m\n\u001b[1;32m     38\u001b[0m \u001b[38;5;66;03m#dispFps.disp(canvas)\u001b[39;00m\n",
      "\u001b[0;31mNameError\u001b[0m: name 'text_location' is not defined"
     ]
    },
    {
     "name": "stdout",
     "output_type": "stream",
     "text": [
      "mouse event\n"
     ]
    },
    {
     "ename": "NameError",
     "evalue": "name 'text_location' is not defined",
     "output_type": "error",
     "traceback": [
      "\u001b[0;31m---------------------------------------------------------------------------\u001b[0m",
      "\u001b[0;31mNameError\u001b[0m                                 Traceback (most recent call last)",
      "Cell \u001b[0;32mIn[21], line 33\u001b[0m, in \u001b[0;36mmouse_event\u001b[0;34m(event, x, y, flags, param)\u001b[0m\n\u001b[1;32m     30\u001b[0m cv2\u001b[38;5;241m.\u001b[39mrectangle(canvas, (\u001b[38;5;241m0\u001b[39m,\u001b[38;5;241m50\u001b[39m), (\u001b[38;5;241m300\u001b[39m,\u001b[38;5;241m200\u001b[39m), (\u001b[38;5;241m0\u001b[39m, \u001b[38;5;241m0\u001b[39m, \u001b[38;5;241m0\u001b[39m), cv2\u001b[38;5;241m.\u001b[39mFILLED, cv2\u001b[38;5;241m.\u001b[39mLINE_AA)\n\u001b[1;32m     32\u001b[0m fps_text \u001b[38;5;241m=\u001b[39m \u001b[38;5;124m'\u001b[39m\u001b[38;5;124mFPS = \u001b[39m\u001b[38;5;124m'\u001b[39m \u001b[38;5;241m+\u001b[39m \u001b[38;5;28mstr\u001b[39m(\u001b[38;5;28mint\u001b[39m(fps))\n\u001b[0;32m---> 33\u001b[0m cv2\u001b[38;5;241m.\u001b[39mputText(canvas, fps_text, \u001b[43mtext_location\u001b[49m, cv2\u001b[38;5;241m.\u001b[39mFONT_HERSHEY_PLAIN,\n\u001b[1;32m     34\u001b[0m             \u001b[38;5;241m1\u001b[39m, (\u001b[38;5;241m0\u001b[39m, \u001b[38;5;241m0\u001b[39m, \u001b[38;5;241m255\u001b[39m), \u001b[38;5;241m1\u001b[39m)\n\u001b[1;32m     36\u001b[0m cv2\u001b[38;5;241m.\u001b[39mrectangle(canvas, (x,\u001b[38;5;241m100\u001b[39m), (x\u001b[38;5;241m+\u001b[39m\u001b[38;5;241m1\u001b[39m,\u001b[38;5;241m200\u001b[39m), (\u001b[38;5;241m127\u001b[39m, \u001b[38;5;241m127\u001b[39m, \u001b[38;5;241m127\u001b[39m), cv2\u001b[38;5;241m.\u001b[39mFILLED, cv2\u001b[38;5;241m.\u001b[39mLINE_AA)\n\u001b[1;32m     37\u001b[0m \u001b[38;5;66;03m#cv2.circle(canvas, (x, y), 50, (0, 255, 255), -1)\u001b[39;00m\n\u001b[1;32m     38\u001b[0m \u001b[38;5;66;03m#dispFps.disp(canvas)\u001b[39;00m\n",
      "\u001b[0;31mNameError\u001b[0m: name 'text_location' is not defined"
     ]
    },
    {
     "name": "stdout",
     "output_type": "stream",
     "text": [
      "mouse event\n"
     ]
    },
    {
     "ename": "NameError",
     "evalue": "name 'text_location' is not defined",
     "output_type": "error",
     "traceback": [
      "\u001b[0;31m---------------------------------------------------------------------------\u001b[0m",
      "\u001b[0;31mNameError\u001b[0m                                 Traceback (most recent call last)",
      "Cell \u001b[0;32mIn[21], line 33\u001b[0m, in \u001b[0;36mmouse_event\u001b[0;34m(event, x, y, flags, param)\u001b[0m\n\u001b[1;32m     30\u001b[0m cv2\u001b[38;5;241m.\u001b[39mrectangle(canvas, (\u001b[38;5;241m0\u001b[39m,\u001b[38;5;241m50\u001b[39m), (\u001b[38;5;241m300\u001b[39m,\u001b[38;5;241m200\u001b[39m), (\u001b[38;5;241m0\u001b[39m, \u001b[38;5;241m0\u001b[39m, \u001b[38;5;241m0\u001b[39m), cv2\u001b[38;5;241m.\u001b[39mFILLED, cv2\u001b[38;5;241m.\u001b[39mLINE_AA)\n\u001b[1;32m     32\u001b[0m fps_text \u001b[38;5;241m=\u001b[39m \u001b[38;5;124m'\u001b[39m\u001b[38;5;124mFPS = \u001b[39m\u001b[38;5;124m'\u001b[39m \u001b[38;5;241m+\u001b[39m \u001b[38;5;28mstr\u001b[39m(\u001b[38;5;28mint\u001b[39m(fps))\n\u001b[0;32m---> 33\u001b[0m cv2\u001b[38;5;241m.\u001b[39mputText(canvas, fps_text, \u001b[43mtext_location\u001b[49m, cv2\u001b[38;5;241m.\u001b[39mFONT_HERSHEY_PLAIN,\n\u001b[1;32m     34\u001b[0m             \u001b[38;5;241m1\u001b[39m, (\u001b[38;5;241m0\u001b[39m, \u001b[38;5;241m0\u001b[39m, \u001b[38;5;241m255\u001b[39m), \u001b[38;5;241m1\u001b[39m)\n\u001b[1;32m     36\u001b[0m cv2\u001b[38;5;241m.\u001b[39mrectangle(canvas, (x,\u001b[38;5;241m100\u001b[39m), (x\u001b[38;5;241m+\u001b[39m\u001b[38;5;241m1\u001b[39m,\u001b[38;5;241m200\u001b[39m), (\u001b[38;5;241m127\u001b[39m, \u001b[38;5;241m127\u001b[39m, \u001b[38;5;241m127\u001b[39m), cv2\u001b[38;5;241m.\u001b[39mFILLED, cv2\u001b[38;5;241m.\u001b[39mLINE_AA)\n\u001b[1;32m     37\u001b[0m \u001b[38;5;66;03m#cv2.circle(canvas, (x, y), 50, (0, 255, 255), -1)\u001b[39;00m\n\u001b[1;32m     38\u001b[0m \u001b[38;5;66;03m#dispFps.disp(canvas)\u001b[39;00m\n",
      "\u001b[0;31mNameError\u001b[0m: name 'text_location' is not defined"
     ]
    },
    {
     "name": "stdout",
     "output_type": "stream",
     "text": [
      "mouse event\n"
     ]
    },
    {
     "ename": "NameError",
     "evalue": "name 'text_location' is not defined",
     "output_type": "error",
     "traceback": [
      "\u001b[0;31m---------------------------------------------------------------------------\u001b[0m",
      "\u001b[0;31mNameError\u001b[0m                                 Traceback (most recent call last)",
      "Cell \u001b[0;32mIn[21], line 33\u001b[0m, in \u001b[0;36mmouse_event\u001b[0;34m(event, x, y, flags, param)\u001b[0m\n\u001b[1;32m     30\u001b[0m cv2\u001b[38;5;241m.\u001b[39mrectangle(canvas, (\u001b[38;5;241m0\u001b[39m,\u001b[38;5;241m50\u001b[39m), (\u001b[38;5;241m300\u001b[39m,\u001b[38;5;241m200\u001b[39m), (\u001b[38;5;241m0\u001b[39m, \u001b[38;5;241m0\u001b[39m, \u001b[38;5;241m0\u001b[39m), cv2\u001b[38;5;241m.\u001b[39mFILLED, cv2\u001b[38;5;241m.\u001b[39mLINE_AA)\n\u001b[1;32m     32\u001b[0m fps_text \u001b[38;5;241m=\u001b[39m \u001b[38;5;124m'\u001b[39m\u001b[38;5;124mFPS = \u001b[39m\u001b[38;5;124m'\u001b[39m \u001b[38;5;241m+\u001b[39m \u001b[38;5;28mstr\u001b[39m(\u001b[38;5;28mint\u001b[39m(fps))\n\u001b[0;32m---> 33\u001b[0m cv2\u001b[38;5;241m.\u001b[39mputText(canvas, fps_text, \u001b[43mtext_location\u001b[49m, cv2\u001b[38;5;241m.\u001b[39mFONT_HERSHEY_PLAIN,\n\u001b[1;32m     34\u001b[0m             \u001b[38;5;241m1\u001b[39m, (\u001b[38;5;241m0\u001b[39m, \u001b[38;5;241m0\u001b[39m, \u001b[38;5;241m255\u001b[39m), \u001b[38;5;241m1\u001b[39m)\n\u001b[1;32m     36\u001b[0m cv2\u001b[38;5;241m.\u001b[39mrectangle(canvas, (x,\u001b[38;5;241m100\u001b[39m), (x\u001b[38;5;241m+\u001b[39m\u001b[38;5;241m1\u001b[39m,\u001b[38;5;241m200\u001b[39m), (\u001b[38;5;241m127\u001b[39m, \u001b[38;5;241m127\u001b[39m, \u001b[38;5;241m127\u001b[39m), cv2\u001b[38;5;241m.\u001b[39mFILLED, cv2\u001b[38;5;241m.\u001b[39mLINE_AA)\n\u001b[1;32m     37\u001b[0m \u001b[38;5;66;03m#cv2.circle(canvas, (x, y), 50, (0, 255, 255), -1)\u001b[39;00m\n\u001b[1;32m     38\u001b[0m \u001b[38;5;66;03m#dispFps.disp(canvas)\u001b[39;00m\n",
      "\u001b[0;31mNameError\u001b[0m: name 'text_location' is not defined"
     ]
    },
    {
     "name": "stdout",
     "output_type": "stream",
     "text": [
      "mouse event\n"
     ]
    },
    {
     "ename": "NameError",
     "evalue": "name 'text_location' is not defined",
     "output_type": "error",
     "traceback": [
      "\u001b[0;31m---------------------------------------------------------------------------\u001b[0m",
      "\u001b[0;31mNameError\u001b[0m                                 Traceback (most recent call last)",
      "Cell \u001b[0;32mIn[21], line 33\u001b[0m, in \u001b[0;36mmouse_event\u001b[0;34m(event, x, y, flags, param)\u001b[0m\n\u001b[1;32m     30\u001b[0m cv2\u001b[38;5;241m.\u001b[39mrectangle(canvas, (\u001b[38;5;241m0\u001b[39m,\u001b[38;5;241m50\u001b[39m), (\u001b[38;5;241m300\u001b[39m,\u001b[38;5;241m200\u001b[39m), (\u001b[38;5;241m0\u001b[39m, \u001b[38;5;241m0\u001b[39m, \u001b[38;5;241m0\u001b[39m), cv2\u001b[38;5;241m.\u001b[39mFILLED, cv2\u001b[38;5;241m.\u001b[39mLINE_AA)\n\u001b[1;32m     32\u001b[0m fps_text \u001b[38;5;241m=\u001b[39m \u001b[38;5;124m'\u001b[39m\u001b[38;5;124mFPS = \u001b[39m\u001b[38;5;124m'\u001b[39m \u001b[38;5;241m+\u001b[39m \u001b[38;5;28mstr\u001b[39m(\u001b[38;5;28mint\u001b[39m(fps))\n\u001b[0;32m---> 33\u001b[0m cv2\u001b[38;5;241m.\u001b[39mputText(canvas, fps_text, \u001b[43mtext_location\u001b[49m, cv2\u001b[38;5;241m.\u001b[39mFONT_HERSHEY_PLAIN,\n\u001b[1;32m     34\u001b[0m             \u001b[38;5;241m1\u001b[39m, (\u001b[38;5;241m0\u001b[39m, \u001b[38;5;241m0\u001b[39m, \u001b[38;5;241m255\u001b[39m), \u001b[38;5;241m1\u001b[39m)\n\u001b[1;32m     36\u001b[0m cv2\u001b[38;5;241m.\u001b[39mrectangle(canvas, (x,\u001b[38;5;241m100\u001b[39m), (x\u001b[38;5;241m+\u001b[39m\u001b[38;5;241m1\u001b[39m,\u001b[38;5;241m200\u001b[39m), (\u001b[38;5;241m127\u001b[39m, \u001b[38;5;241m127\u001b[39m, \u001b[38;5;241m127\u001b[39m), cv2\u001b[38;5;241m.\u001b[39mFILLED, cv2\u001b[38;5;241m.\u001b[39mLINE_AA)\n\u001b[1;32m     37\u001b[0m \u001b[38;5;66;03m#cv2.circle(canvas, (x, y), 50, (0, 255, 255), -1)\u001b[39;00m\n\u001b[1;32m     38\u001b[0m \u001b[38;5;66;03m#dispFps.disp(canvas)\u001b[39;00m\n",
      "\u001b[0;31mNameError\u001b[0m: name 'text_location' is not defined"
     ]
    },
    {
     "name": "stdout",
     "output_type": "stream",
     "text": [
      "mouse event\n"
     ]
    },
    {
     "ename": "NameError",
     "evalue": "name 'text_location' is not defined",
     "output_type": "error",
     "traceback": [
      "\u001b[0;31m---------------------------------------------------------------------------\u001b[0m",
      "\u001b[0;31mNameError\u001b[0m                                 Traceback (most recent call last)",
      "Cell \u001b[0;32mIn[21], line 33\u001b[0m, in \u001b[0;36mmouse_event\u001b[0;34m(event, x, y, flags, param)\u001b[0m\n\u001b[1;32m     30\u001b[0m cv2\u001b[38;5;241m.\u001b[39mrectangle(canvas, (\u001b[38;5;241m0\u001b[39m,\u001b[38;5;241m50\u001b[39m), (\u001b[38;5;241m300\u001b[39m,\u001b[38;5;241m200\u001b[39m), (\u001b[38;5;241m0\u001b[39m, \u001b[38;5;241m0\u001b[39m, \u001b[38;5;241m0\u001b[39m), cv2\u001b[38;5;241m.\u001b[39mFILLED, cv2\u001b[38;5;241m.\u001b[39mLINE_AA)\n\u001b[1;32m     32\u001b[0m fps_text \u001b[38;5;241m=\u001b[39m \u001b[38;5;124m'\u001b[39m\u001b[38;5;124mFPS = \u001b[39m\u001b[38;5;124m'\u001b[39m \u001b[38;5;241m+\u001b[39m \u001b[38;5;28mstr\u001b[39m(\u001b[38;5;28mint\u001b[39m(fps))\n\u001b[0;32m---> 33\u001b[0m cv2\u001b[38;5;241m.\u001b[39mputText(canvas, fps_text, \u001b[43mtext_location\u001b[49m, cv2\u001b[38;5;241m.\u001b[39mFONT_HERSHEY_PLAIN,\n\u001b[1;32m     34\u001b[0m             \u001b[38;5;241m1\u001b[39m, (\u001b[38;5;241m0\u001b[39m, \u001b[38;5;241m0\u001b[39m, \u001b[38;5;241m255\u001b[39m), \u001b[38;5;241m1\u001b[39m)\n\u001b[1;32m     36\u001b[0m cv2\u001b[38;5;241m.\u001b[39mrectangle(canvas, (x,\u001b[38;5;241m100\u001b[39m), (x\u001b[38;5;241m+\u001b[39m\u001b[38;5;241m1\u001b[39m,\u001b[38;5;241m200\u001b[39m), (\u001b[38;5;241m127\u001b[39m, \u001b[38;5;241m127\u001b[39m, \u001b[38;5;241m127\u001b[39m), cv2\u001b[38;5;241m.\u001b[39mFILLED, cv2\u001b[38;5;241m.\u001b[39mLINE_AA)\n\u001b[1;32m     37\u001b[0m \u001b[38;5;66;03m#cv2.circle(canvas, (x, y), 50, (0, 255, 255), -1)\u001b[39;00m\n\u001b[1;32m     38\u001b[0m \u001b[38;5;66;03m#dispFps.disp(canvas)\u001b[39;00m\n",
      "\u001b[0;31mNameError\u001b[0m: name 'text_location' is not defined"
     ]
    },
    {
     "name": "stdout",
     "output_type": "stream",
     "text": [
      "mouse event\n"
     ]
    },
    {
     "ename": "NameError",
     "evalue": "name 'text_location' is not defined",
     "output_type": "error",
     "traceback": [
      "\u001b[0;31m---------------------------------------------------------------------------\u001b[0m",
      "\u001b[0;31mNameError\u001b[0m                                 Traceback (most recent call last)",
      "Cell \u001b[0;32mIn[21], line 33\u001b[0m, in \u001b[0;36mmouse_event\u001b[0;34m(event, x, y, flags, param)\u001b[0m\n\u001b[1;32m     30\u001b[0m cv2\u001b[38;5;241m.\u001b[39mrectangle(canvas, (\u001b[38;5;241m0\u001b[39m,\u001b[38;5;241m50\u001b[39m), (\u001b[38;5;241m300\u001b[39m,\u001b[38;5;241m200\u001b[39m), (\u001b[38;5;241m0\u001b[39m, \u001b[38;5;241m0\u001b[39m, \u001b[38;5;241m0\u001b[39m), cv2\u001b[38;5;241m.\u001b[39mFILLED, cv2\u001b[38;5;241m.\u001b[39mLINE_AA)\n\u001b[1;32m     32\u001b[0m fps_text \u001b[38;5;241m=\u001b[39m \u001b[38;5;124m'\u001b[39m\u001b[38;5;124mFPS = \u001b[39m\u001b[38;5;124m'\u001b[39m \u001b[38;5;241m+\u001b[39m \u001b[38;5;28mstr\u001b[39m(\u001b[38;5;28mint\u001b[39m(fps))\n\u001b[0;32m---> 33\u001b[0m cv2\u001b[38;5;241m.\u001b[39mputText(canvas, fps_text, \u001b[43mtext_location\u001b[49m, cv2\u001b[38;5;241m.\u001b[39mFONT_HERSHEY_PLAIN,\n\u001b[1;32m     34\u001b[0m             \u001b[38;5;241m1\u001b[39m, (\u001b[38;5;241m0\u001b[39m, \u001b[38;5;241m0\u001b[39m, \u001b[38;5;241m255\u001b[39m), \u001b[38;5;241m1\u001b[39m)\n\u001b[1;32m     36\u001b[0m cv2\u001b[38;5;241m.\u001b[39mrectangle(canvas, (x,\u001b[38;5;241m100\u001b[39m), (x\u001b[38;5;241m+\u001b[39m\u001b[38;5;241m1\u001b[39m,\u001b[38;5;241m200\u001b[39m), (\u001b[38;5;241m127\u001b[39m, \u001b[38;5;241m127\u001b[39m, \u001b[38;5;241m127\u001b[39m), cv2\u001b[38;5;241m.\u001b[39mFILLED, cv2\u001b[38;5;241m.\u001b[39mLINE_AA)\n\u001b[1;32m     37\u001b[0m \u001b[38;5;66;03m#cv2.circle(canvas, (x, y), 50, (0, 255, 255), -1)\u001b[39;00m\n\u001b[1;32m     38\u001b[0m \u001b[38;5;66;03m#dispFps.disp(canvas)\u001b[39;00m\n",
      "\u001b[0;31mNameError\u001b[0m: name 'text_location' is not defined"
     ]
    },
    {
     "name": "stdout",
     "output_type": "stream",
     "text": [
      "mouse event\n"
     ]
    },
    {
     "ename": "NameError",
     "evalue": "name 'text_location' is not defined",
     "output_type": "error",
     "traceback": [
      "\u001b[0;31m---------------------------------------------------------------------------\u001b[0m",
      "\u001b[0;31mNameError\u001b[0m                                 Traceback (most recent call last)",
      "Cell \u001b[0;32mIn[21], line 33\u001b[0m, in \u001b[0;36mmouse_event\u001b[0;34m(event, x, y, flags, param)\u001b[0m\n\u001b[1;32m     30\u001b[0m cv2\u001b[38;5;241m.\u001b[39mrectangle(canvas, (\u001b[38;5;241m0\u001b[39m,\u001b[38;5;241m50\u001b[39m), (\u001b[38;5;241m300\u001b[39m,\u001b[38;5;241m200\u001b[39m), (\u001b[38;5;241m0\u001b[39m, \u001b[38;5;241m0\u001b[39m, \u001b[38;5;241m0\u001b[39m), cv2\u001b[38;5;241m.\u001b[39mFILLED, cv2\u001b[38;5;241m.\u001b[39mLINE_AA)\n\u001b[1;32m     32\u001b[0m fps_text \u001b[38;5;241m=\u001b[39m \u001b[38;5;124m'\u001b[39m\u001b[38;5;124mFPS = \u001b[39m\u001b[38;5;124m'\u001b[39m \u001b[38;5;241m+\u001b[39m \u001b[38;5;28mstr\u001b[39m(\u001b[38;5;28mint\u001b[39m(fps))\n\u001b[0;32m---> 33\u001b[0m cv2\u001b[38;5;241m.\u001b[39mputText(canvas, fps_text, \u001b[43mtext_location\u001b[49m, cv2\u001b[38;5;241m.\u001b[39mFONT_HERSHEY_PLAIN,\n\u001b[1;32m     34\u001b[0m             \u001b[38;5;241m1\u001b[39m, (\u001b[38;5;241m0\u001b[39m, \u001b[38;5;241m0\u001b[39m, \u001b[38;5;241m255\u001b[39m), \u001b[38;5;241m1\u001b[39m)\n\u001b[1;32m     36\u001b[0m cv2\u001b[38;5;241m.\u001b[39mrectangle(canvas, (x,\u001b[38;5;241m100\u001b[39m), (x\u001b[38;5;241m+\u001b[39m\u001b[38;5;241m1\u001b[39m,\u001b[38;5;241m200\u001b[39m), (\u001b[38;5;241m127\u001b[39m, \u001b[38;5;241m127\u001b[39m, \u001b[38;5;241m127\u001b[39m), cv2\u001b[38;5;241m.\u001b[39mFILLED, cv2\u001b[38;5;241m.\u001b[39mLINE_AA)\n\u001b[1;32m     37\u001b[0m \u001b[38;5;66;03m#cv2.circle(canvas, (x, y), 50, (0, 255, 255), -1)\u001b[39;00m\n\u001b[1;32m     38\u001b[0m \u001b[38;5;66;03m#dispFps.disp(canvas)\u001b[39;00m\n",
      "\u001b[0;31mNameError\u001b[0m: name 'text_location' is not defined"
     ]
    },
    {
     "name": "stdout",
     "output_type": "stream",
     "text": [
      "mouse event\n"
     ]
    },
    {
     "ename": "NameError",
     "evalue": "name 'text_location' is not defined",
     "output_type": "error",
     "traceback": [
      "\u001b[0;31m---------------------------------------------------------------------------\u001b[0m",
      "\u001b[0;31mNameError\u001b[0m                                 Traceback (most recent call last)",
      "Cell \u001b[0;32mIn[21], line 33\u001b[0m, in \u001b[0;36mmouse_event\u001b[0;34m(event, x, y, flags, param)\u001b[0m\n\u001b[1;32m     30\u001b[0m cv2\u001b[38;5;241m.\u001b[39mrectangle(canvas, (\u001b[38;5;241m0\u001b[39m,\u001b[38;5;241m50\u001b[39m), (\u001b[38;5;241m300\u001b[39m,\u001b[38;5;241m200\u001b[39m), (\u001b[38;5;241m0\u001b[39m, \u001b[38;5;241m0\u001b[39m, \u001b[38;5;241m0\u001b[39m), cv2\u001b[38;5;241m.\u001b[39mFILLED, cv2\u001b[38;5;241m.\u001b[39mLINE_AA)\n\u001b[1;32m     32\u001b[0m fps_text \u001b[38;5;241m=\u001b[39m \u001b[38;5;124m'\u001b[39m\u001b[38;5;124mFPS = \u001b[39m\u001b[38;5;124m'\u001b[39m \u001b[38;5;241m+\u001b[39m \u001b[38;5;28mstr\u001b[39m(\u001b[38;5;28mint\u001b[39m(fps))\n\u001b[0;32m---> 33\u001b[0m cv2\u001b[38;5;241m.\u001b[39mputText(canvas, fps_text, \u001b[43mtext_location\u001b[49m, cv2\u001b[38;5;241m.\u001b[39mFONT_HERSHEY_PLAIN,\n\u001b[1;32m     34\u001b[0m             \u001b[38;5;241m1\u001b[39m, (\u001b[38;5;241m0\u001b[39m, \u001b[38;5;241m0\u001b[39m, \u001b[38;5;241m255\u001b[39m), \u001b[38;5;241m1\u001b[39m)\n\u001b[1;32m     36\u001b[0m cv2\u001b[38;5;241m.\u001b[39mrectangle(canvas, (x,\u001b[38;5;241m100\u001b[39m), (x\u001b[38;5;241m+\u001b[39m\u001b[38;5;241m1\u001b[39m,\u001b[38;5;241m200\u001b[39m), (\u001b[38;5;241m127\u001b[39m, \u001b[38;5;241m127\u001b[39m, \u001b[38;5;241m127\u001b[39m), cv2\u001b[38;5;241m.\u001b[39mFILLED, cv2\u001b[38;5;241m.\u001b[39mLINE_AA)\n\u001b[1;32m     37\u001b[0m \u001b[38;5;66;03m#cv2.circle(canvas, (x, y), 50, (0, 255, 255), -1)\u001b[39;00m\n\u001b[1;32m     38\u001b[0m \u001b[38;5;66;03m#dispFps.disp(canvas)\u001b[39;00m\n",
      "\u001b[0;31mNameError\u001b[0m: name 'text_location' is not defined"
     ]
    },
    {
     "name": "stdout",
     "output_type": "stream",
     "text": [
      "mouse event\n"
     ]
    },
    {
     "ename": "NameError",
     "evalue": "name 'text_location' is not defined",
     "output_type": "error",
     "traceback": [
      "\u001b[0;31m---------------------------------------------------------------------------\u001b[0m",
      "\u001b[0;31mNameError\u001b[0m                                 Traceback (most recent call last)",
      "Cell \u001b[0;32mIn[21], line 33\u001b[0m, in \u001b[0;36mmouse_event\u001b[0;34m(event, x, y, flags, param)\u001b[0m\n\u001b[1;32m     30\u001b[0m cv2\u001b[38;5;241m.\u001b[39mrectangle(canvas, (\u001b[38;5;241m0\u001b[39m,\u001b[38;5;241m50\u001b[39m), (\u001b[38;5;241m300\u001b[39m,\u001b[38;5;241m200\u001b[39m), (\u001b[38;5;241m0\u001b[39m, \u001b[38;5;241m0\u001b[39m, \u001b[38;5;241m0\u001b[39m), cv2\u001b[38;5;241m.\u001b[39mFILLED, cv2\u001b[38;5;241m.\u001b[39mLINE_AA)\n\u001b[1;32m     32\u001b[0m fps_text \u001b[38;5;241m=\u001b[39m \u001b[38;5;124m'\u001b[39m\u001b[38;5;124mFPS = \u001b[39m\u001b[38;5;124m'\u001b[39m \u001b[38;5;241m+\u001b[39m \u001b[38;5;28mstr\u001b[39m(\u001b[38;5;28mint\u001b[39m(fps))\n\u001b[0;32m---> 33\u001b[0m cv2\u001b[38;5;241m.\u001b[39mputText(canvas, fps_text, \u001b[43mtext_location\u001b[49m, cv2\u001b[38;5;241m.\u001b[39mFONT_HERSHEY_PLAIN,\n\u001b[1;32m     34\u001b[0m             \u001b[38;5;241m1\u001b[39m, (\u001b[38;5;241m0\u001b[39m, \u001b[38;5;241m0\u001b[39m, \u001b[38;5;241m255\u001b[39m), \u001b[38;5;241m1\u001b[39m)\n\u001b[1;32m     36\u001b[0m cv2\u001b[38;5;241m.\u001b[39mrectangle(canvas, (x,\u001b[38;5;241m100\u001b[39m), (x\u001b[38;5;241m+\u001b[39m\u001b[38;5;241m1\u001b[39m,\u001b[38;5;241m200\u001b[39m), (\u001b[38;5;241m127\u001b[39m, \u001b[38;5;241m127\u001b[39m, \u001b[38;5;241m127\u001b[39m), cv2\u001b[38;5;241m.\u001b[39mFILLED, cv2\u001b[38;5;241m.\u001b[39mLINE_AA)\n\u001b[1;32m     37\u001b[0m \u001b[38;5;66;03m#cv2.circle(canvas, (x, y), 50, (0, 255, 255), -1)\u001b[39;00m\n\u001b[1;32m     38\u001b[0m \u001b[38;5;66;03m#dispFps.disp(canvas)\u001b[39;00m\n",
      "\u001b[0;31mNameError\u001b[0m: name 'text_location' is not defined"
     ]
    },
    {
     "name": "stdout",
     "output_type": "stream",
     "text": [
      "mouse event\n"
     ]
    },
    {
     "ename": "NameError",
     "evalue": "name 'text_location' is not defined",
     "output_type": "error",
     "traceback": [
      "\u001b[0;31m---------------------------------------------------------------------------\u001b[0m",
      "\u001b[0;31mNameError\u001b[0m                                 Traceback (most recent call last)",
      "Cell \u001b[0;32mIn[21], line 33\u001b[0m, in \u001b[0;36mmouse_event\u001b[0;34m(event, x, y, flags, param)\u001b[0m\n\u001b[1;32m     30\u001b[0m cv2\u001b[38;5;241m.\u001b[39mrectangle(canvas, (\u001b[38;5;241m0\u001b[39m,\u001b[38;5;241m50\u001b[39m), (\u001b[38;5;241m300\u001b[39m,\u001b[38;5;241m200\u001b[39m), (\u001b[38;5;241m0\u001b[39m, \u001b[38;5;241m0\u001b[39m, \u001b[38;5;241m0\u001b[39m), cv2\u001b[38;5;241m.\u001b[39mFILLED, cv2\u001b[38;5;241m.\u001b[39mLINE_AA)\n\u001b[1;32m     32\u001b[0m fps_text \u001b[38;5;241m=\u001b[39m \u001b[38;5;124m'\u001b[39m\u001b[38;5;124mFPS = \u001b[39m\u001b[38;5;124m'\u001b[39m \u001b[38;5;241m+\u001b[39m \u001b[38;5;28mstr\u001b[39m(\u001b[38;5;28mint\u001b[39m(fps))\n\u001b[0;32m---> 33\u001b[0m cv2\u001b[38;5;241m.\u001b[39mputText(canvas, fps_text, \u001b[43mtext_location\u001b[49m, cv2\u001b[38;5;241m.\u001b[39mFONT_HERSHEY_PLAIN,\n\u001b[1;32m     34\u001b[0m             \u001b[38;5;241m1\u001b[39m, (\u001b[38;5;241m0\u001b[39m, \u001b[38;5;241m0\u001b[39m, \u001b[38;5;241m255\u001b[39m), \u001b[38;5;241m1\u001b[39m)\n\u001b[1;32m     36\u001b[0m cv2\u001b[38;5;241m.\u001b[39mrectangle(canvas, (x,\u001b[38;5;241m100\u001b[39m), (x\u001b[38;5;241m+\u001b[39m\u001b[38;5;241m1\u001b[39m,\u001b[38;5;241m200\u001b[39m), (\u001b[38;5;241m127\u001b[39m, \u001b[38;5;241m127\u001b[39m, \u001b[38;5;241m127\u001b[39m), cv2\u001b[38;5;241m.\u001b[39mFILLED, cv2\u001b[38;5;241m.\u001b[39mLINE_AA)\n\u001b[1;32m     37\u001b[0m \u001b[38;5;66;03m#cv2.circle(canvas, (x, y), 50, (0, 255, 255), -1)\u001b[39;00m\n\u001b[1;32m     38\u001b[0m \u001b[38;5;66;03m#dispFps.disp(canvas)\u001b[39;00m\n",
      "\u001b[0;31mNameError\u001b[0m: name 'text_location' is not defined"
     ]
    },
    {
     "name": "stdout",
     "output_type": "stream",
     "text": [
      "mouse event\n"
     ]
    },
    {
     "ename": "NameError",
     "evalue": "name 'text_location' is not defined",
     "output_type": "error",
     "traceback": [
      "\u001b[0;31m---------------------------------------------------------------------------\u001b[0m",
      "\u001b[0;31mNameError\u001b[0m                                 Traceback (most recent call last)",
      "Cell \u001b[0;32mIn[21], line 33\u001b[0m, in \u001b[0;36mmouse_event\u001b[0;34m(event, x, y, flags, param)\u001b[0m\n\u001b[1;32m     30\u001b[0m cv2\u001b[38;5;241m.\u001b[39mrectangle(canvas, (\u001b[38;5;241m0\u001b[39m,\u001b[38;5;241m50\u001b[39m), (\u001b[38;5;241m300\u001b[39m,\u001b[38;5;241m200\u001b[39m), (\u001b[38;5;241m0\u001b[39m, \u001b[38;5;241m0\u001b[39m, \u001b[38;5;241m0\u001b[39m), cv2\u001b[38;5;241m.\u001b[39mFILLED, cv2\u001b[38;5;241m.\u001b[39mLINE_AA)\n\u001b[1;32m     32\u001b[0m fps_text \u001b[38;5;241m=\u001b[39m \u001b[38;5;124m'\u001b[39m\u001b[38;5;124mFPS = \u001b[39m\u001b[38;5;124m'\u001b[39m \u001b[38;5;241m+\u001b[39m \u001b[38;5;28mstr\u001b[39m(\u001b[38;5;28mint\u001b[39m(fps))\n\u001b[0;32m---> 33\u001b[0m cv2\u001b[38;5;241m.\u001b[39mputText(canvas, fps_text, \u001b[43mtext_location\u001b[49m, cv2\u001b[38;5;241m.\u001b[39mFONT_HERSHEY_PLAIN,\n\u001b[1;32m     34\u001b[0m             \u001b[38;5;241m1\u001b[39m, (\u001b[38;5;241m0\u001b[39m, \u001b[38;5;241m0\u001b[39m, \u001b[38;5;241m255\u001b[39m), \u001b[38;5;241m1\u001b[39m)\n\u001b[1;32m     36\u001b[0m cv2\u001b[38;5;241m.\u001b[39mrectangle(canvas, (x,\u001b[38;5;241m100\u001b[39m), (x\u001b[38;5;241m+\u001b[39m\u001b[38;5;241m1\u001b[39m,\u001b[38;5;241m200\u001b[39m), (\u001b[38;5;241m127\u001b[39m, \u001b[38;5;241m127\u001b[39m, \u001b[38;5;241m127\u001b[39m), cv2\u001b[38;5;241m.\u001b[39mFILLED, cv2\u001b[38;5;241m.\u001b[39mLINE_AA)\n\u001b[1;32m     37\u001b[0m \u001b[38;5;66;03m#cv2.circle(canvas, (x, y), 50, (0, 255, 255), -1)\u001b[39;00m\n\u001b[1;32m     38\u001b[0m \u001b[38;5;66;03m#dispFps.disp(canvas)\u001b[39;00m\n",
      "\u001b[0;31mNameError\u001b[0m: name 'text_location' is not defined"
     ]
    },
    {
     "name": "stdout",
     "output_type": "stream",
     "text": [
      "mouse event\n"
     ]
    },
    {
     "ename": "NameError",
     "evalue": "name 'text_location' is not defined",
     "output_type": "error",
     "traceback": [
      "\u001b[0;31m---------------------------------------------------------------------------\u001b[0m",
      "\u001b[0;31mNameError\u001b[0m                                 Traceback (most recent call last)",
      "Cell \u001b[0;32mIn[21], line 33\u001b[0m, in \u001b[0;36mmouse_event\u001b[0;34m(event, x, y, flags, param)\u001b[0m\n\u001b[1;32m     30\u001b[0m cv2\u001b[38;5;241m.\u001b[39mrectangle(canvas, (\u001b[38;5;241m0\u001b[39m,\u001b[38;5;241m50\u001b[39m), (\u001b[38;5;241m300\u001b[39m,\u001b[38;5;241m200\u001b[39m), (\u001b[38;5;241m0\u001b[39m, \u001b[38;5;241m0\u001b[39m, \u001b[38;5;241m0\u001b[39m), cv2\u001b[38;5;241m.\u001b[39mFILLED, cv2\u001b[38;5;241m.\u001b[39mLINE_AA)\n\u001b[1;32m     32\u001b[0m fps_text \u001b[38;5;241m=\u001b[39m \u001b[38;5;124m'\u001b[39m\u001b[38;5;124mFPS = \u001b[39m\u001b[38;5;124m'\u001b[39m \u001b[38;5;241m+\u001b[39m \u001b[38;5;28mstr\u001b[39m(\u001b[38;5;28mint\u001b[39m(fps))\n\u001b[0;32m---> 33\u001b[0m cv2\u001b[38;5;241m.\u001b[39mputText(canvas, fps_text, \u001b[43mtext_location\u001b[49m, cv2\u001b[38;5;241m.\u001b[39mFONT_HERSHEY_PLAIN,\n\u001b[1;32m     34\u001b[0m             \u001b[38;5;241m1\u001b[39m, (\u001b[38;5;241m0\u001b[39m, \u001b[38;5;241m0\u001b[39m, \u001b[38;5;241m255\u001b[39m), \u001b[38;5;241m1\u001b[39m)\n\u001b[1;32m     36\u001b[0m cv2\u001b[38;5;241m.\u001b[39mrectangle(canvas, (x,\u001b[38;5;241m100\u001b[39m), (x\u001b[38;5;241m+\u001b[39m\u001b[38;5;241m1\u001b[39m,\u001b[38;5;241m200\u001b[39m), (\u001b[38;5;241m127\u001b[39m, \u001b[38;5;241m127\u001b[39m, \u001b[38;5;241m127\u001b[39m), cv2\u001b[38;5;241m.\u001b[39mFILLED, cv2\u001b[38;5;241m.\u001b[39mLINE_AA)\n\u001b[1;32m     37\u001b[0m \u001b[38;5;66;03m#cv2.circle(canvas, (x, y), 50, (0, 255, 255), -1)\u001b[39;00m\n\u001b[1;32m     38\u001b[0m \u001b[38;5;66;03m#dispFps.disp(canvas)\u001b[39;00m\n",
      "\u001b[0;31mNameError\u001b[0m: name 'text_location' is not defined"
     ]
    },
    {
     "name": "stdout",
     "output_type": "stream",
     "text": [
      "mouse event\n"
     ]
    },
    {
     "ename": "NameError",
     "evalue": "name 'text_location' is not defined",
     "output_type": "error",
     "traceback": [
      "\u001b[0;31m---------------------------------------------------------------------------\u001b[0m",
      "\u001b[0;31mNameError\u001b[0m                                 Traceback (most recent call last)",
      "Cell \u001b[0;32mIn[21], line 33\u001b[0m, in \u001b[0;36mmouse_event\u001b[0;34m(event, x, y, flags, param)\u001b[0m\n\u001b[1;32m     30\u001b[0m cv2\u001b[38;5;241m.\u001b[39mrectangle(canvas, (\u001b[38;5;241m0\u001b[39m,\u001b[38;5;241m50\u001b[39m), (\u001b[38;5;241m300\u001b[39m,\u001b[38;5;241m200\u001b[39m), (\u001b[38;5;241m0\u001b[39m, \u001b[38;5;241m0\u001b[39m, \u001b[38;5;241m0\u001b[39m), cv2\u001b[38;5;241m.\u001b[39mFILLED, cv2\u001b[38;5;241m.\u001b[39mLINE_AA)\n\u001b[1;32m     32\u001b[0m fps_text \u001b[38;5;241m=\u001b[39m \u001b[38;5;124m'\u001b[39m\u001b[38;5;124mFPS = \u001b[39m\u001b[38;5;124m'\u001b[39m \u001b[38;5;241m+\u001b[39m \u001b[38;5;28mstr\u001b[39m(\u001b[38;5;28mint\u001b[39m(fps))\n\u001b[0;32m---> 33\u001b[0m cv2\u001b[38;5;241m.\u001b[39mputText(canvas, fps_text, \u001b[43mtext_location\u001b[49m, cv2\u001b[38;5;241m.\u001b[39mFONT_HERSHEY_PLAIN,\n\u001b[1;32m     34\u001b[0m             \u001b[38;5;241m1\u001b[39m, (\u001b[38;5;241m0\u001b[39m, \u001b[38;5;241m0\u001b[39m, \u001b[38;5;241m255\u001b[39m), \u001b[38;5;241m1\u001b[39m)\n\u001b[1;32m     36\u001b[0m cv2\u001b[38;5;241m.\u001b[39mrectangle(canvas, (x,\u001b[38;5;241m100\u001b[39m), (x\u001b[38;5;241m+\u001b[39m\u001b[38;5;241m1\u001b[39m,\u001b[38;5;241m200\u001b[39m), (\u001b[38;5;241m127\u001b[39m, \u001b[38;5;241m127\u001b[39m, \u001b[38;5;241m127\u001b[39m), cv2\u001b[38;5;241m.\u001b[39mFILLED, cv2\u001b[38;5;241m.\u001b[39mLINE_AA)\n\u001b[1;32m     37\u001b[0m \u001b[38;5;66;03m#cv2.circle(canvas, (x, y), 50, (0, 255, 255), -1)\u001b[39;00m\n\u001b[1;32m     38\u001b[0m \u001b[38;5;66;03m#dispFps.disp(canvas)\u001b[39;00m\n",
      "\u001b[0;31mNameError\u001b[0m: name 'text_location' is not defined"
     ]
    },
    {
     "name": "stdout",
     "output_type": "stream",
     "text": [
      "mouse event\n"
     ]
    },
    {
     "ename": "NameError",
     "evalue": "name 'text_location' is not defined",
     "output_type": "error",
     "traceback": [
      "\u001b[0;31m---------------------------------------------------------------------------\u001b[0m",
      "\u001b[0;31mNameError\u001b[0m                                 Traceback (most recent call last)",
      "Cell \u001b[0;32mIn[21], line 33\u001b[0m, in \u001b[0;36mmouse_event\u001b[0;34m(event, x, y, flags, param)\u001b[0m\n\u001b[1;32m     30\u001b[0m cv2\u001b[38;5;241m.\u001b[39mrectangle(canvas, (\u001b[38;5;241m0\u001b[39m,\u001b[38;5;241m50\u001b[39m), (\u001b[38;5;241m300\u001b[39m,\u001b[38;5;241m200\u001b[39m), (\u001b[38;5;241m0\u001b[39m, \u001b[38;5;241m0\u001b[39m, \u001b[38;5;241m0\u001b[39m), cv2\u001b[38;5;241m.\u001b[39mFILLED, cv2\u001b[38;5;241m.\u001b[39mLINE_AA)\n\u001b[1;32m     32\u001b[0m fps_text \u001b[38;5;241m=\u001b[39m \u001b[38;5;124m'\u001b[39m\u001b[38;5;124mFPS = \u001b[39m\u001b[38;5;124m'\u001b[39m \u001b[38;5;241m+\u001b[39m \u001b[38;5;28mstr\u001b[39m(\u001b[38;5;28mint\u001b[39m(fps))\n\u001b[0;32m---> 33\u001b[0m cv2\u001b[38;5;241m.\u001b[39mputText(canvas, fps_text, \u001b[43mtext_location\u001b[49m, cv2\u001b[38;5;241m.\u001b[39mFONT_HERSHEY_PLAIN,\n\u001b[1;32m     34\u001b[0m             \u001b[38;5;241m1\u001b[39m, (\u001b[38;5;241m0\u001b[39m, \u001b[38;5;241m0\u001b[39m, \u001b[38;5;241m255\u001b[39m), \u001b[38;5;241m1\u001b[39m)\n\u001b[1;32m     36\u001b[0m cv2\u001b[38;5;241m.\u001b[39mrectangle(canvas, (x,\u001b[38;5;241m100\u001b[39m), (x\u001b[38;5;241m+\u001b[39m\u001b[38;5;241m1\u001b[39m,\u001b[38;5;241m200\u001b[39m), (\u001b[38;5;241m127\u001b[39m, \u001b[38;5;241m127\u001b[39m, \u001b[38;5;241m127\u001b[39m), cv2\u001b[38;5;241m.\u001b[39mFILLED, cv2\u001b[38;5;241m.\u001b[39mLINE_AA)\n\u001b[1;32m     37\u001b[0m \u001b[38;5;66;03m#cv2.circle(canvas, (x, y), 50, (0, 255, 255), -1)\u001b[39;00m\n\u001b[1;32m     38\u001b[0m \u001b[38;5;66;03m#dispFps.disp(canvas)\u001b[39;00m\n",
      "\u001b[0;31mNameError\u001b[0m: name 'text_location' is not defined"
     ]
    },
    {
     "name": "stdout",
     "output_type": "stream",
     "text": [
      "mouse event\n"
     ]
    },
    {
     "ename": "NameError",
     "evalue": "name 'text_location' is not defined",
     "output_type": "error",
     "traceback": [
      "\u001b[0;31m---------------------------------------------------------------------------\u001b[0m",
      "\u001b[0;31mNameError\u001b[0m                                 Traceback (most recent call last)",
      "Cell \u001b[0;32mIn[21], line 33\u001b[0m, in \u001b[0;36mmouse_event\u001b[0;34m(event, x, y, flags, param)\u001b[0m\n\u001b[1;32m     30\u001b[0m cv2\u001b[38;5;241m.\u001b[39mrectangle(canvas, (\u001b[38;5;241m0\u001b[39m,\u001b[38;5;241m50\u001b[39m), (\u001b[38;5;241m300\u001b[39m,\u001b[38;5;241m200\u001b[39m), (\u001b[38;5;241m0\u001b[39m, \u001b[38;5;241m0\u001b[39m, \u001b[38;5;241m0\u001b[39m), cv2\u001b[38;5;241m.\u001b[39mFILLED, cv2\u001b[38;5;241m.\u001b[39mLINE_AA)\n\u001b[1;32m     32\u001b[0m fps_text \u001b[38;5;241m=\u001b[39m \u001b[38;5;124m'\u001b[39m\u001b[38;5;124mFPS = \u001b[39m\u001b[38;5;124m'\u001b[39m \u001b[38;5;241m+\u001b[39m \u001b[38;5;28mstr\u001b[39m(\u001b[38;5;28mint\u001b[39m(fps))\n\u001b[0;32m---> 33\u001b[0m cv2\u001b[38;5;241m.\u001b[39mputText(canvas, fps_text, \u001b[43mtext_location\u001b[49m, cv2\u001b[38;5;241m.\u001b[39mFONT_HERSHEY_PLAIN,\n\u001b[1;32m     34\u001b[0m             \u001b[38;5;241m1\u001b[39m, (\u001b[38;5;241m0\u001b[39m, \u001b[38;5;241m0\u001b[39m, \u001b[38;5;241m255\u001b[39m), \u001b[38;5;241m1\u001b[39m)\n\u001b[1;32m     36\u001b[0m cv2\u001b[38;5;241m.\u001b[39mrectangle(canvas, (x,\u001b[38;5;241m100\u001b[39m), (x\u001b[38;5;241m+\u001b[39m\u001b[38;5;241m1\u001b[39m,\u001b[38;5;241m200\u001b[39m), (\u001b[38;5;241m127\u001b[39m, \u001b[38;5;241m127\u001b[39m, \u001b[38;5;241m127\u001b[39m), cv2\u001b[38;5;241m.\u001b[39mFILLED, cv2\u001b[38;5;241m.\u001b[39mLINE_AA)\n\u001b[1;32m     37\u001b[0m \u001b[38;5;66;03m#cv2.circle(canvas, (x, y), 50, (0, 255, 255), -1)\u001b[39;00m\n\u001b[1;32m     38\u001b[0m \u001b[38;5;66;03m#dispFps.disp(canvas)\u001b[39;00m\n",
      "\u001b[0;31mNameError\u001b[0m: name 'text_location' is not defined"
     ]
    },
    {
     "name": "stdout",
     "output_type": "stream",
     "text": [
      "mouse event\n"
     ]
    },
    {
     "ename": "NameError",
     "evalue": "name 'text_location' is not defined",
     "output_type": "error",
     "traceback": [
      "\u001b[0;31m---------------------------------------------------------------------------\u001b[0m",
      "\u001b[0;31mNameError\u001b[0m                                 Traceback (most recent call last)",
      "Cell \u001b[0;32mIn[21], line 33\u001b[0m, in \u001b[0;36mmouse_event\u001b[0;34m(event, x, y, flags, param)\u001b[0m\n\u001b[1;32m     30\u001b[0m cv2\u001b[38;5;241m.\u001b[39mrectangle(canvas, (\u001b[38;5;241m0\u001b[39m,\u001b[38;5;241m50\u001b[39m), (\u001b[38;5;241m300\u001b[39m,\u001b[38;5;241m200\u001b[39m), (\u001b[38;5;241m0\u001b[39m, \u001b[38;5;241m0\u001b[39m, \u001b[38;5;241m0\u001b[39m), cv2\u001b[38;5;241m.\u001b[39mFILLED, cv2\u001b[38;5;241m.\u001b[39mLINE_AA)\n\u001b[1;32m     32\u001b[0m fps_text \u001b[38;5;241m=\u001b[39m \u001b[38;5;124m'\u001b[39m\u001b[38;5;124mFPS = \u001b[39m\u001b[38;5;124m'\u001b[39m \u001b[38;5;241m+\u001b[39m \u001b[38;5;28mstr\u001b[39m(\u001b[38;5;28mint\u001b[39m(fps))\n\u001b[0;32m---> 33\u001b[0m cv2\u001b[38;5;241m.\u001b[39mputText(canvas, fps_text, \u001b[43mtext_location\u001b[49m, cv2\u001b[38;5;241m.\u001b[39mFONT_HERSHEY_PLAIN,\n\u001b[1;32m     34\u001b[0m             \u001b[38;5;241m1\u001b[39m, (\u001b[38;5;241m0\u001b[39m, \u001b[38;5;241m0\u001b[39m, \u001b[38;5;241m255\u001b[39m), \u001b[38;5;241m1\u001b[39m)\n\u001b[1;32m     36\u001b[0m cv2\u001b[38;5;241m.\u001b[39mrectangle(canvas, (x,\u001b[38;5;241m100\u001b[39m), (x\u001b[38;5;241m+\u001b[39m\u001b[38;5;241m1\u001b[39m,\u001b[38;5;241m200\u001b[39m), (\u001b[38;5;241m127\u001b[39m, \u001b[38;5;241m127\u001b[39m, \u001b[38;5;241m127\u001b[39m), cv2\u001b[38;5;241m.\u001b[39mFILLED, cv2\u001b[38;5;241m.\u001b[39mLINE_AA)\n\u001b[1;32m     37\u001b[0m \u001b[38;5;66;03m#cv2.circle(canvas, (x, y), 50, (0, 255, 255), -1)\u001b[39;00m\n\u001b[1;32m     38\u001b[0m \u001b[38;5;66;03m#dispFps.disp(canvas)\u001b[39;00m\n",
      "\u001b[0;31mNameError\u001b[0m: name 'text_location' is not defined"
     ]
    },
    {
     "name": "stdout",
     "output_type": "stream",
     "text": [
      "mouse event\n"
     ]
    },
    {
     "ename": "NameError",
     "evalue": "name 'text_location' is not defined",
     "output_type": "error",
     "traceback": [
      "\u001b[0;31m---------------------------------------------------------------------------\u001b[0m",
      "\u001b[0;31mNameError\u001b[0m                                 Traceback (most recent call last)",
      "Cell \u001b[0;32mIn[21], line 33\u001b[0m, in \u001b[0;36mmouse_event\u001b[0;34m(event, x, y, flags, param)\u001b[0m\n\u001b[1;32m     30\u001b[0m cv2\u001b[38;5;241m.\u001b[39mrectangle(canvas, (\u001b[38;5;241m0\u001b[39m,\u001b[38;5;241m50\u001b[39m), (\u001b[38;5;241m300\u001b[39m,\u001b[38;5;241m200\u001b[39m), (\u001b[38;5;241m0\u001b[39m, \u001b[38;5;241m0\u001b[39m, \u001b[38;5;241m0\u001b[39m), cv2\u001b[38;5;241m.\u001b[39mFILLED, cv2\u001b[38;5;241m.\u001b[39mLINE_AA)\n\u001b[1;32m     32\u001b[0m fps_text \u001b[38;5;241m=\u001b[39m \u001b[38;5;124m'\u001b[39m\u001b[38;5;124mFPS = \u001b[39m\u001b[38;5;124m'\u001b[39m \u001b[38;5;241m+\u001b[39m \u001b[38;5;28mstr\u001b[39m(\u001b[38;5;28mint\u001b[39m(fps))\n\u001b[0;32m---> 33\u001b[0m cv2\u001b[38;5;241m.\u001b[39mputText(canvas, fps_text, \u001b[43mtext_location\u001b[49m, cv2\u001b[38;5;241m.\u001b[39mFONT_HERSHEY_PLAIN,\n\u001b[1;32m     34\u001b[0m             \u001b[38;5;241m1\u001b[39m, (\u001b[38;5;241m0\u001b[39m, \u001b[38;5;241m0\u001b[39m, \u001b[38;5;241m255\u001b[39m), \u001b[38;5;241m1\u001b[39m)\n\u001b[1;32m     36\u001b[0m cv2\u001b[38;5;241m.\u001b[39mrectangle(canvas, (x,\u001b[38;5;241m100\u001b[39m), (x\u001b[38;5;241m+\u001b[39m\u001b[38;5;241m1\u001b[39m,\u001b[38;5;241m200\u001b[39m), (\u001b[38;5;241m127\u001b[39m, \u001b[38;5;241m127\u001b[39m, \u001b[38;5;241m127\u001b[39m), cv2\u001b[38;5;241m.\u001b[39mFILLED, cv2\u001b[38;5;241m.\u001b[39mLINE_AA)\n\u001b[1;32m     37\u001b[0m \u001b[38;5;66;03m#cv2.circle(canvas, (x, y), 50, (0, 255, 255), -1)\u001b[39;00m\n\u001b[1;32m     38\u001b[0m \u001b[38;5;66;03m#dispFps.disp(canvas)\u001b[39;00m\n",
      "\u001b[0;31mNameError\u001b[0m: name 'text_location' is not defined"
     ]
    },
    {
     "name": "stdout",
     "output_type": "stream",
     "text": [
      "mouse event\n"
     ]
    },
    {
     "ename": "NameError",
     "evalue": "name 'text_location' is not defined",
     "output_type": "error",
     "traceback": [
      "\u001b[0;31m---------------------------------------------------------------------------\u001b[0m",
      "\u001b[0;31mNameError\u001b[0m                                 Traceback (most recent call last)",
      "Cell \u001b[0;32mIn[21], line 33\u001b[0m, in \u001b[0;36mmouse_event\u001b[0;34m(event, x, y, flags, param)\u001b[0m\n\u001b[1;32m     30\u001b[0m cv2\u001b[38;5;241m.\u001b[39mrectangle(canvas, (\u001b[38;5;241m0\u001b[39m,\u001b[38;5;241m50\u001b[39m), (\u001b[38;5;241m300\u001b[39m,\u001b[38;5;241m200\u001b[39m), (\u001b[38;5;241m0\u001b[39m, \u001b[38;5;241m0\u001b[39m, \u001b[38;5;241m0\u001b[39m), cv2\u001b[38;5;241m.\u001b[39mFILLED, cv2\u001b[38;5;241m.\u001b[39mLINE_AA)\n\u001b[1;32m     32\u001b[0m fps_text \u001b[38;5;241m=\u001b[39m \u001b[38;5;124m'\u001b[39m\u001b[38;5;124mFPS = \u001b[39m\u001b[38;5;124m'\u001b[39m \u001b[38;5;241m+\u001b[39m \u001b[38;5;28mstr\u001b[39m(\u001b[38;5;28mint\u001b[39m(fps))\n\u001b[0;32m---> 33\u001b[0m cv2\u001b[38;5;241m.\u001b[39mputText(canvas, fps_text, \u001b[43mtext_location\u001b[49m, cv2\u001b[38;5;241m.\u001b[39mFONT_HERSHEY_PLAIN,\n\u001b[1;32m     34\u001b[0m             \u001b[38;5;241m1\u001b[39m, (\u001b[38;5;241m0\u001b[39m, \u001b[38;5;241m0\u001b[39m, \u001b[38;5;241m255\u001b[39m), \u001b[38;5;241m1\u001b[39m)\n\u001b[1;32m     36\u001b[0m cv2\u001b[38;5;241m.\u001b[39mrectangle(canvas, (x,\u001b[38;5;241m100\u001b[39m), (x\u001b[38;5;241m+\u001b[39m\u001b[38;5;241m1\u001b[39m,\u001b[38;5;241m200\u001b[39m), (\u001b[38;5;241m127\u001b[39m, \u001b[38;5;241m127\u001b[39m, \u001b[38;5;241m127\u001b[39m), cv2\u001b[38;5;241m.\u001b[39mFILLED, cv2\u001b[38;5;241m.\u001b[39mLINE_AA)\n\u001b[1;32m     37\u001b[0m \u001b[38;5;66;03m#cv2.circle(canvas, (x, y), 50, (0, 255, 255), -1)\u001b[39;00m\n\u001b[1;32m     38\u001b[0m \u001b[38;5;66;03m#dispFps.disp(canvas)\u001b[39;00m\n",
      "\u001b[0;31mNameError\u001b[0m: name 'text_location' is not defined"
     ]
    },
    {
     "name": "stdout",
     "output_type": "stream",
     "text": [
      "mouse event\n"
     ]
    },
    {
     "ename": "NameError",
     "evalue": "name 'text_location' is not defined",
     "output_type": "error",
     "traceback": [
      "\u001b[0;31m---------------------------------------------------------------------------\u001b[0m",
      "\u001b[0;31mNameError\u001b[0m                                 Traceback (most recent call last)",
      "Cell \u001b[0;32mIn[21], line 33\u001b[0m, in \u001b[0;36mmouse_event\u001b[0;34m(event, x, y, flags, param)\u001b[0m\n\u001b[1;32m     30\u001b[0m cv2\u001b[38;5;241m.\u001b[39mrectangle(canvas, (\u001b[38;5;241m0\u001b[39m,\u001b[38;5;241m50\u001b[39m), (\u001b[38;5;241m300\u001b[39m,\u001b[38;5;241m200\u001b[39m), (\u001b[38;5;241m0\u001b[39m, \u001b[38;5;241m0\u001b[39m, \u001b[38;5;241m0\u001b[39m), cv2\u001b[38;5;241m.\u001b[39mFILLED, cv2\u001b[38;5;241m.\u001b[39mLINE_AA)\n\u001b[1;32m     32\u001b[0m fps_text \u001b[38;5;241m=\u001b[39m \u001b[38;5;124m'\u001b[39m\u001b[38;5;124mFPS = \u001b[39m\u001b[38;5;124m'\u001b[39m \u001b[38;5;241m+\u001b[39m \u001b[38;5;28mstr\u001b[39m(\u001b[38;5;28mint\u001b[39m(fps))\n\u001b[0;32m---> 33\u001b[0m cv2\u001b[38;5;241m.\u001b[39mputText(canvas, fps_text, \u001b[43mtext_location\u001b[49m, cv2\u001b[38;5;241m.\u001b[39mFONT_HERSHEY_PLAIN,\n\u001b[1;32m     34\u001b[0m             \u001b[38;5;241m1\u001b[39m, (\u001b[38;5;241m0\u001b[39m, \u001b[38;5;241m0\u001b[39m, \u001b[38;5;241m255\u001b[39m), \u001b[38;5;241m1\u001b[39m)\n\u001b[1;32m     36\u001b[0m cv2\u001b[38;5;241m.\u001b[39mrectangle(canvas, (x,\u001b[38;5;241m100\u001b[39m), (x\u001b[38;5;241m+\u001b[39m\u001b[38;5;241m1\u001b[39m,\u001b[38;5;241m200\u001b[39m), (\u001b[38;5;241m127\u001b[39m, \u001b[38;5;241m127\u001b[39m, \u001b[38;5;241m127\u001b[39m), cv2\u001b[38;5;241m.\u001b[39mFILLED, cv2\u001b[38;5;241m.\u001b[39mLINE_AA)\n\u001b[1;32m     37\u001b[0m \u001b[38;5;66;03m#cv2.circle(canvas, (x, y), 50, (0, 255, 255), -1)\u001b[39;00m\n\u001b[1;32m     38\u001b[0m \u001b[38;5;66;03m#dispFps.disp(canvas)\u001b[39;00m\n",
      "\u001b[0;31mNameError\u001b[0m: name 'text_location' is not defined"
     ]
    },
    {
     "name": "stdout",
     "output_type": "stream",
     "text": [
      "mouse event\n"
     ]
    },
    {
     "ename": "NameError",
     "evalue": "name 'text_location' is not defined",
     "output_type": "error",
     "traceback": [
      "\u001b[0;31m---------------------------------------------------------------------------\u001b[0m",
      "\u001b[0;31mNameError\u001b[0m                                 Traceback (most recent call last)",
      "Cell \u001b[0;32mIn[21], line 33\u001b[0m, in \u001b[0;36mmouse_event\u001b[0;34m(event, x, y, flags, param)\u001b[0m\n\u001b[1;32m     30\u001b[0m cv2\u001b[38;5;241m.\u001b[39mrectangle(canvas, (\u001b[38;5;241m0\u001b[39m,\u001b[38;5;241m50\u001b[39m), (\u001b[38;5;241m300\u001b[39m,\u001b[38;5;241m200\u001b[39m), (\u001b[38;5;241m0\u001b[39m, \u001b[38;5;241m0\u001b[39m, \u001b[38;5;241m0\u001b[39m), cv2\u001b[38;5;241m.\u001b[39mFILLED, cv2\u001b[38;5;241m.\u001b[39mLINE_AA)\n\u001b[1;32m     32\u001b[0m fps_text \u001b[38;5;241m=\u001b[39m \u001b[38;5;124m'\u001b[39m\u001b[38;5;124mFPS = \u001b[39m\u001b[38;5;124m'\u001b[39m \u001b[38;5;241m+\u001b[39m \u001b[38;5;28mstr\u001b[39m(\u001b[38;5;28mint\u001b[39m(fps))\n\u001b[0;32m---> 33\u001b[0m cv2\u001b[38;5;241m.\u001b[39mputText(canvas, fps_text, \u001b[43mtext_location\u001b[49m, cv2\u001b[38;5;241m.\u001b[39mFONT_HERSHEY_PLAIN,\n\u001b[1;32m     34\u001b[0m             \u001b[38;5;241m1\u001b[39m, (\u001b[38;5;241m0\u001b[39m, \u001b[38;5;241m0\u001b[39m, \u001b[38;5;241m255\u001b[39m), \u001b[38;5;241m1\u001b[39m)\n\u001b[1;32m     36\u001b[0m cv2\u001b[38;5;241m.\u001b[39mrectangle(canvas, (x,\u001b[38;5;241m100\u001b[39m), (x\u001b[38;5;241m+\u001b[39m\u001b[38;5;241m1\u001b[39m,\u001b[38;5;241m200\u001b[39m), (\u001b[38;5;241m127\u001b[39m, \u001b[38;5;241m127\u001b[39m, \u001b[38;5;241m127\u001b[39m), cv2\u001b[38;5;241m.\u001b[39mFILLED, cv2\u001b[38;5;241m.\u001b[39mLINE_AA)\n\u001b[1;32m     37\u001b[0m \u001b[38;5;66;03m#cv2.circle(canvas, (x, y), 50, (0, 255, 255), -1)\u001b[39;00m\n\u001b[1;32m     38\u001b[0m \u001b[38;5;66;03m#dispFps.disp(canvas)\u001b[39;00m\n",
      "\u001b[0;31mNameError\u001b[0m: name 'text_location' is not defined"
     ]
    },
    {
     "name": "stdout",
     "output_type": "stream",
     "text": [
      "mouse event\n"
     ]
    },
    {
     "ename": "NameError",
     "evalue": "name 'text_location' is not defined",
     "output_type": "error",
     "traceback": [
      "\u001b[0;31m---------------------------------------------------------------------------\u001b[0m",
      "\u001b[0;31mNameError\u001b[0m                                 Traceback (most recent call last)",
      "Cell \u001b[0;32mIn[21], line 33\u001b[0m, in \u001b[0;36mmouse_event\u001b[0;34m(event, x, y, flags, param)\u001b[0m\n\u001b[1;32m     30\u001b[0m cv2\u001b[38;5;241m.\u001b[39mrectangle(canvas, (\u001b[38;5;241m0\u001b[39m,\u001b[38;5;241m50\u001b[39m), (\u001b[38;5;241m300\u001b[39m,\u001b[38;5;241m200\u001b[39m), (\u001b[38;5;241m0\u001b[39m, \u001b[38;5;241m0\u001b[39m, \u001b[38;5;241m0\u001b[39m), cv2\u001b[38;5;241m.\u001b[39mFILLED, cv2\u001b[38;5;241m.\u001b[39mLINE_AA)\n\u001b[1;32m     32\u001b[0m fps_text \u001b[38;5;241m=\u001b[39m \u001b[38;5;124m'\u001b[39m\u001b[38;5;124mFPS = \u001b[39m\u001b[38;5;124m'\u001b[39m \u001b[38;5;241m+\u001b[39m \u001b[38;5;28mstr\u001b[39m(\u001b[38;5;28mint\u001b[39m(fps))\n\u001b[0;32m---> 33\u001b[0m cv2\u001b[38;5;241m.\u001b[39mputText(canvas, fps_text, \u001b[43mtext_location\u001b[49m, cv2\u001b[38;5;241m.\u001b[39mFONT_HERSHEY_PLAIN,\n\u001b[1;32m     34\u001b[0m             \u001b[38;5;241m1\u001b[39m, (\u001b[38;5;241m0\u001b[39m, \u001b[38;5;241m0\u001b[39m, \u001b[38;5;241m255\u001b[39m), \u001b[38;5;241m1\u001b[39m)\n\u001b[1;32m     36\u001b[0m cv2\u001b[38;5;241m.\u001b[39mrectangle(canvas, (x,\u001b[38;5;241m100\u001b[39m), (x\u001b[38;5;241m+\u001b[39m\u001b[38;5;241m1\u001b[39m,\u001b[38;5;241m200\u001b[39m), (\u001b[38;5;241m127\u001b[39m, \u001b[38;5;241m127\u001b[39m, \u001b[38;5;241m127\u001b[39m), cv2\u001b[38;5;241m.\u001b[39mFILLED, cv2\u001b[38;5;241m.\u001b[39mLINE_AA)\n\u001b[1;32m     37\u001b[0m \u001b[38;5;66;03m#cv2.circle(canvas, (x, y), 50, (0, 255, 255), -1)\u001b[39;00m\n\u001b[1;32m     38\u001b[0m \u001b[38;5;66;03m#dispFps.disp(canvas)\u001b[39;00m\n",
      "\u001b[0;31mNameError\u001b[0m: name 'text_location' is not defined"
     ]
    }
   ],
   "source": [
    "import cv2\n",
    "import numpy as np\n",
    "import serial\n",
    "import time\n",
    "\n",
    "length = 150\n",
    "\n",
    "'''\n",
    "#ser = serial.Serial('/dev/tty.wchusbserial54BB0211361', 115200)\n",
    "ser = serial.Serial()\n",
    "ser.braudrate = 115200\n",
    "ser.port = '/dev/tty.wchusbserial54BB0211361'\n",
    "ser.open()\n",
    "'''\n",
    "fps_text_location = (10, 10)\n",
    "start_time = 0\n",
    "start_time = time.time()\n",
    "\n",
    "def mouse_event(event, x, y, flags, param):\n",
    "    print(\"mouse event\")\n",
    "    global start_time\n",
    "    end_time = time.time()\n",
    "    \n",
    "    time_diff = end_time - start_time #sec\n",
    "    fps = 1.0 / time_diff\n",
    "        \n",
    "    start_time = time.time()\n",
    "    \n",
    "    #clean up\n",
    "    cv2.rectangle(canvas, (0,30), (300,200), (0, 0, 0), cv2.FILLED, cv2.LINE_AA)\n",
    "    \n",
    "    fps_text = 'FPS = ' + str(int(fps))\n",
    "    cv2.putText(canvas, fps_text, text_location, cv2.FONT_HERSHEY_PLAIN,\n",
    "                1, (0, 0, 255), 1)\n",
    "    \n",
    "    cv2.rectangle(canvas, (x,100), (x+1,200), (127, 127, 127), cv2.FILLED, cv2.LINE_AA)\n",
    "    #cv2.circle(canvas, (x, y), 50, (0, 255, 255), -1)\n",
    "    #dispFps.disp(canvas)\n",
    "    cv2.imshow(\"X\", canvas)\n",
    "    \n",
    "    #last array is for stop char\n",
    "    data = [0] * (length+1) \n",
    "    if x<length:\n",
    "        data[x] = 254\n",
    "    \n",
    "    data[length] = 255\n",
    "    send_binary =bytes(data)\n",
    "    #print(data)\n",
    "    \n",
    "    ser.write(send_binary)\n",
    "    \n",
    "    time.sleep(0.05)\n",
    "    \n",
    "    '''\n",
    "    try:\n",
    "        if ser.isOpen():\n",
    "            ser.write(send_binary)\n",
    "            print('write')\n",
    "        else:\n",
    "            ser = serial.Serial('/dev/tty.wchusbserial54BB0211361', 115200)\n",
    "        time.sleep(0.05)\n",
    "    except NameError:\n",
    "        print('not found')\n",
    "        time.sleep(0.05)\n",
    "        '''\n",
    "\n",
    "ser = serial.Serial('/dev/tty.wchusbserial54BB0211361', 115200)\n",
    "print(ser.portstr)\n",
    "\n",
    "#last array is for stop char\n",
    "data = [0] * (length+1) \n",
    "print(data)\n",
    "data[length] = 255\n",
    "print(data)\n",
    "# convert list to bytearray\n",
    "\n",
    "canvas = np.zeros((200,300,3), np.uint8)\n",
    "cv2.putText(canvas, \"hello\", (10, 30),\n",
    "               cv2.FONT_HERSHEY_PLAIN, 1.5,\n",
    "               (255, 255, 255), 1, cv2.LINE_AA)\n",
    "\n",
    "cv2.startWindowThread()\n",
    "cv2.imshow(\"X\", canvas)\n",
    "cv2.setMouseCallback(\"X\", mouse_event)\n",
    "key = cv2.waitKey(0)\n",
    "\n",
    "if key == ord('q'):            #qを押した時の処理\n",
    "    cv2.waitKey(1)\n",
    "    cv2.destroyAllWindows()  \n",
    "    ser.close()\n",
    "    cv2.waitKey(1)"
   ]
  },
  {
   "cell_type": "code",
   "execution_count": 28,
   "id": "b9045be0",
   "metadata": {},
   "outputs": [
    {
     "name": "stdout",
     "output_type": "stream",
     "text": [
      "/dev/tty.wchusbserial54BB0211361\n",
      "[0, 0, 0, 0, 0, 0, 0, 0, 0, 0, 0, 0, 0, 0, 0, 0, 0, 0, 0, 0, 0, 0, 0, 0, 0, 0, 0, 0, 0, 0, 0, 0, 0, 0, 0, 0, 0, 0, 0, 0, 0, 0, 0, 0, 0, 0, 0, 0, 0, 0, 0, 0, 0, 0, 0, 0, 0, 0, 0, 0, 0, 0, 0, 0, 0, 0, 0, 0, 0, 0, 0, 0, 0, 0, 0, 0, 0, 0, 0, 0, 0, 0, 0, 0, 0, 0, 0, 0, 0, 0, 0, 0, 0, 0, 0, 0, 0, 0, 0, 0, 0, 0, 0, 0, 0, 0, 0, 0, 0, 0, 0, 0, 0, 0, 0, 0, 0, 0, 0, 0, 0, 0, 0, 0, 0, 0, 0, 0, 0, 0, 0, 0, 0, 0, 0, 0, 0, 0, 0, 0, 0, 0, 0, 0, 0, 0, 0, 0, 0, 0, 0]\n",
      "[0, 0, 0, 0, 0, 0, 0, 0, 0, 0, 0, 0, 0, 0, 0, 0, 0, 0, 0, 0, 0, 0, 0, 0, 0, 0, 0, 0, 0, 0, 0, 0, 0, 0, 0, 0, 0, 0, 0, 0, 0, 0, 0, 0, 0, 0, 0, 0, 0, 0, 0, 0, 0, 0, 0, 0, 0, 0, 0, 0, 0, 0, 0, 0, 0, 0, 0, 0, 0, 0, 0, 0, 0, 0, 0, 0, 0, 0, 0, 0, 0, 0, 0, 0, 0, 0, 0, 0, 0, 0, 0, 0, 0, 0, 0, 0, 0, 0, 0, 0, 0, 0, 0, 0, 0, 0, 0, 0, 0, 0, 0, 0, 0, 0, 0, 0, 0, 0, 0, 0, 0, 0, 0, 0, 0, 0, 0, 0, 0, 0, 0, 0, 0, 0, 0, 0, 0, 0, 0, 0, 0, 0, 0, 0, 0, 0, 0, 0, 0, 0, 255]\n"
     ]
    },
    {
     "ename": "AttributeError",
     "evalue": "module 'cv2' has no attribute 'FqONT_HERSHEY_PLAIN'",
     "output_type": "error",
     "traceback": [
      "\u001b[0;31m---------------------------------------------------------------------------\u001b[0m",
      "\u001b[0;31mAttributeError\u001b[0m                            Traceback (most recent call last)",
      "Cell \u001b[0;32mIn[28], line 50\u001b[0m\n\u001b[1;32m     46\u001b[0m \u001b[38;5;66;03m# convert list to bytearray\u001b[39;00m\n\u001b[1;32m     48\u001b[0m canvas \u001b[38;5;241m=\u001b[39m np\u001b[38;5;241m.\u001b[39mzeros((\u001b[38;5;241m200\u001b[39m,\u001b[38;5;241m300\u001b[39m,\u001b[38;5;241m3\u001b[39m), np\u001b[38;5;241m.\u001b[39muint8)\n\u001b[1;32m     49\u001b[0m cv2\u001b[38;5;241m.\u001b[39mputText(canvas, \u001b[38;5;124m\"\u001b[39m\u001b[38;5;124mhello\u001b[39m\u001b[38;5;124m\"\u001b[39m, (\u001b[38;5;241m10\u001b[39m, \u001b[38;5;241m20\u001b[39m),\n\u001b[0;32m---> 50\u001b[0m                \u001b[43mcv2\u001b[49m\u001b[38;5;241;43m.\u001b[39;49m\u001b[43mFqONT_HERSHEY_PLAIN\u001b[49m, \u001b[38;5;241m1.5\u001b[39m,\n\u001b[1;32m     51\u001b[0m                (\u001b[38;5;241m255\u001b[39m, \u001b[38;5;241m255\u001b[39m, \u001b[38;5;241m255\u001b[39m), \u001b[38;5;241m1\u001b[39m, cv2\u001b[38;5;241m.\u001b[39mLINE_AA)\n\u001b[1;32m     53\u001b[0m cv2\u001b[38;5;241m.\u001b[39mstartWindowThread()\n\u001b[1;32m     54\u001b[0m cv2\u001b[38;5;241m.\u001b[39mimshow(\u001b[38;5;124m\"\u001b[39m\u001b[38;5;124mX\u001b[39m\u001b[38;5;124m\"\u001b[39m, canvas)\n",
      "\u001b[0;31mAttributeError\u001b[0m: module 'cv2' has no attribute 'FqONT_HERSHEY_PLAIN'"
     ]
    }
   ],
   "source": [
    "import cv2\n",
    "import numpy as np\n",
    "import serial\n",
    "import time\n",
    "\n",
    "def mouse_event(event, x, y, flags, param):\n",
    "    global start_time,fps_text_location\n",
    "    end_time = time.time()\n",
    "\n",
    "    time_diff = end_time - start_time #sec\n",
    "    fps = 1.0 / time_diff\n",
    "        \n",
    "    start_time = time.time()\n",
    "    \n",
    "    cv2.rectangle(canvas, (0,30), (300,200), (0, 0, 0), cv2.FILLED, cv2.LINE_AA)\n",
    "    fps_text = 'FPS = ' + str(int(fps))\n",
    "    cv2.putText(canvas, fps_text, fps_text_location, cv2.FONT_HERSHEY_PLAIN,\n",
    "                1, (0, 0, 255), 1)\n",
    "    cv2.rectangle(canvas, (x,100), (x+1,200), (127, 127, 127), cv2.FILLED, cv2.LINE_AA)\n",
    "    cv2.imshow(\"X\", canvas)\n",
    "    \n",
    "    #last array is for stop char\n",
    "    data = [0] * (length+1) \n",
    "    if x<length:\n",
    "        data[x] = 254\n",
    "    \n",
    "    data[length] = 255\n",
    "    send_binary =bytes(data)\n",
    "\n",
    "    ser.write(send_binary)\n",
    "    \n",
    "    time.sleep(0.01)\n",
    "\n",
    "length = 150\n",
    "fps_text_location = (10, 50)\n",
    "start_time = time.time()\n",
    "\n",
    "ser = serial.Serial('/dev/tty.wchusbserial54BB0211361', 115200)\n",
    "print(ser.portstr)\n",
    "\n",
    "#last array is for stop char\n",
    "data = [0] * (length+1) \n",
    "print(data)\n",
    "data[length] = 255\n",
    "print(data)\n",
    "# convert list to bytearray\n",
    "\n",
    "canvas = np.zeros((200,300,3), np.uint8)\n",
    "cv2.putText(canvas, \"hello\", (10, 20),\n",
    "               cv2.FONT_HERSHEY_PLAIN, 1.5,\n",
    "               (255, 255, 255), 1, cv2.LINE_AA)\n",
    "\n",
    "cv2.startWindowThread()\n",
    "cv2.imshow(\"X\", canvas)\n",
    "cv2.setMouseCallback(\"X\", mouse_event)\n",
    "key = cv2.waitKey(0)\n",
    "\n",
    "if key == ord('q'):            #qを押した時の処理\n",
    "    cv2.waitKey(1)\n",
    "    cv2.destroyAllWindows()  \n",
    "    cv2.waitKey(1)\n"
   ]
  },
  {
   "cell_type": "markdown",
   "id": "79b2af62",
   "metadata": {},
   "source": [
    "# Camera's fps setting\n",
    "https://www.klv.co.jp/corner/python-opencv-camera-framerate.html"
   ]
  },
  {
   "cell_type": "code",
   "execution_count": null,
   "id": "de570958",
   "metadata": {},
   "outputs": [],
   "source": []
  },
  {
   "cell_type": "code",
   "execution_count": null,
   "id": "253a8cd6",
   "metadata": {},
   "outputs": [],
   "source": []
  }
 ],
 "metadata": {
  "kernelspec": {
   "display_name": "Python 3 (ipykernel)",
   "language": "python",
   "name": "python3"
  },
  "language_info": {
   "codemirror_mode": {
    "name": "ipython",
    "version": 3
   },
   "file_extension": ".py",
   "mimetype": "text/x-python",
   "name": "python",
   "nbconvert_exporter": "python",
   "pygments_lexer": "ipython3",
   "version": "3.9.16"
  }
 },
 "nbformat": 4,
 "nbformat_minor": 5
}
