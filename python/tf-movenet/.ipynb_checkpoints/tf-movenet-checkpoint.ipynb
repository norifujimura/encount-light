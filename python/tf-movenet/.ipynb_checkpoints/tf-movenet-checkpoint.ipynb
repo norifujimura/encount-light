{
 "cells": [
  {
   "cell_type": "markdown",
   "id": "a42dbae0",
   "metadata": {},
   "source": [
    "https://www.tensorflow.org/lite/examples/pose_estimation/overview?hl=ja"
   ]
  },
  {
   "cell_type": "markdown",
   "id": "01c2ba3a",
   "metadata": {},
   "source": [
    "https://blog.tensorflow.org/2021/08/pose-estimation-and-classification-on-edge-devices-with-MoveNet-and-TensorFlow-Lite.html?hl=ja&_gl=1*xgz6jk*_ga*MTYwMDI2MzYzMC4xNzA0MTcwODE4*_ga_W0YLR4190T*MTcwNjUxOTU5NC41LjEuMTcwNjUyMDE0OC4wLjAuMA.."
   ]
  },
  {
   "cell_type": "markdown",
   "id": "06b0bd12",
   "metadata": {},
   "source": [
    "TFlite MOvenet RasPi sample code"
   ]
  },
  {
   "cell_type": "markdown",
   "id": "7c9bcb01",
   "metadata": {},
   "source": [
    "https://github.com/tensorflow/examples/tree/master/lite/examples/pose_estimation/raspberry_pi#run-the-pose-classification-sample"
   ]
  },
  {
   "cell_type": "markdown",
   "id": "326b2cea",
   "metadata": {},
   "source": [
    "Install dependencies. \n",
    "Run this script to install the Python dependencies, and download the TFLite models. sh setup.sh\n",
    "\n",
    "for the error following:\n",
    "ERROR: Could not find a version that satisfies the requirement tflite-runtime>=2.7.0 (from versions: none)\n",
    "https://temcee.hatenablog.com/entry/tensorflow_install_error"
   ]
  },
  {
   "cell_type": "code",
   "execution_count": 1,
   "id": "60a272e7",
   "metadata": {},
   "outputs": [
    {
     "name": "stdout",
     "output_type": "stream",
     "text": [
      "Requirement already satisfied: pip in /Users/nori/.pyenv/versions/3.9.16/lib/python3.9/site-packages (23.3.2)\n",
      "Collecting argparse (from -r requirements.txt (line 1))\n",
      "  Using cached argparse-1.4.0-py2.py3-none-any.whl (23 kB)\n",
      "Requirement already satisfied: numpy>=1.20.0 in /Users/nori/.pyenv/versions/3.9.16/lib/python3.9/site-packages (from -r requirements.txt (line 2)) (1.24.1)\n",
      "Collecting opencv-python~=4.5.3.56 (from -r requirements.txt (line 3))\n",
      "  Using cached opencv_python-4.5.3.56-cp39-cp39-macosx_11_0_arm64.whl (10.7 MB)\n",
      "Requirement already satisfied: pandas>=1.3.1 in /Users/nori/.local/lib/python3.9/site-packages (from -r requirements.txt (line 4)) (1.5.2)\n",
      "\u001b[31mERROR: Could not find a version that satisfies the requirement tflite-runtime>=2.7.0 (from versions: none)\u001b[0m\u001b[31m\n",
      "\u001b[0m\u001b[31mERROR: No matching distribution found for tflite-runtime>=2.7.0\u001b[0m\u001b[31m\n",
      "\u001b[0m  % Total    % Received % Xferd  Average Speed   Time    Time     Time  Current\n",
      "                                 Dload  Upload   Total   Spent    Left  Speed\n",
      "100 12.6M  100 12.6M    0     0  4017k      0  0:00:03  0:00:03 --:--:-- 4020k\n",
      "  % Total    % Received % Xferd  Average Speed   Time    Time     Time  Current\n",
      "                                 Dload  Upload   Total   Spent    Left  Speed\n",
      "  0     0    0     0    0     0      0      0 --:--:--  0:00:01 --:--:--     0\n",
      "  0     0    0     0    0     0      0      0 --:--:--  0:00:02 --:--:--     0\n",
      "100 4646k  100 4646k    0     0   790k      0  0:00:05  0:00:05 --:--:-- 2041k:13:28  126k\n",
      "  % Total    % Received % Xferd  Average Speed   Time    Time     Time  Current\n",
      "                                 Dload  Upload   Total   Spent    Left  Speed\n",
      "  0     0    0     0    0     0      0      0 --:--:-- --:--:-- --:--:--     0\n",
      "  0     0    0     0    0     0      0      0 --:--:--  0:00:01 --:--:--     0\n",
      "100 12.0M  100 12.0M    0     0  2272k      0  0:00:05  0:00:05 --:--:-- 3526k\n",
      "  % Total    % Received % Xferd  Average Speed   Time    Time     Time  Current\n",
      "                                 Dload  Upload   Total   Spent    Left  Speed\n",
      "  0     0    0     0    0     0      0      0 --:--:-- --:--:-- --:--:--     0\n",
      "  0     0    0     0    0     0      0      0 --:--:-- --:--:-- --:--:--     0\n",
      "100 9360k  100 9360k    0     0  1953k      0  0:00:04  0:00:04 --:--:-- 3343k\n",
      "  % Total    % Received % Xferd  Average Speed   Time    Time     Time  Current\n",
      "                                 Dload  Upload   Total   Spent    Left  Speed\n",
      "100 36960  100 36960    0     0    98k      0 --:--:-- --:--:-- --:--:--  101k\n",
      "-e Downloaded files are in ./\n"
     ]
    }
   ],
   "source": [
    "! sh setup.sh"
   ]
  },
  {
   "cell_type": "code",
   "execution_count": 3,
   "id": "145fbbce",
   "metadata": {},
   "outputs": [
    {
     "ename": "SyntaxError",
     "evalue": "invalid syntax (2089306824.py, line 1)",
     "output_type": "error",
     "traceback": [
      "\u001b[0;36m  Cell \u001b[0;32mIn[3], line 1\u001b[0;36m\u001b[0m\n\u001b[0;31m    python3 pose_estimation.py\u001b[0m\n\u001b[0m            ^\u001b[0m\n\u001b[0;31mSyntaxError\u001b[0m\u001b[0;31m:\u001b[0m invalid syntax\n"
     ]
    }
   ],
   "source": [
    "python3 pose_estimation.py"
   ]
  },
  {
   "cell_type": "code",
   "execution_count": 9,
   "id": "081fa5b5",
   "metadata": {},
   "outputs": [
    {
     "name": "stdout",
     "output_type": "stream",
     "text": [
      "WARNING:root:No tracker will be used as tracker can only be enabled for MoveNet MultiPose model.\n",
      "^C\n",
      "Traceback (most recent call last):\n",
      "  File \"/Users/nori/Documents/GitHub/encount-light/python/tf-movenet/pose_estimation.py\", line 196, in <module>\n",
      "    main()\n",
      "  File \"/Users/nori/Documents/GitHub/encount-light/python/tf-movenet/pose_estimation.py\", line 191, in main\n",
      "    run(args.model, args.tracker, args.classifier, args.label_file,\n",
      "  File \"/Users/nori/Documents/GitHub/encount-light/python/tf-movenet/pose_estimation.py\", line 149, in run\n",
      "    if cv2.waitKey(1) == 27:\n",
      "KeyboardInterrupt\n"
     ]
    }
   ],
   "source": [
    "! python3 pose_estimation.py"
   ]
  },
  {
   "cell_type": "code",
   "execution_count": 2,
   "id": "de97f643",
   "metadata": {},
   "outputs": [],
   "source": [
    "\"\"\"Main script to run pose classification and pose estimation.\"\"\"\n",
    "import argparse\n",
    "import logging\n",
    "import sys\n",
    "import time\n",
    "\n",
    "import cv2\n",
    "\n",
    "import utils"
   ]
  },
  {
   "cell_type": "code",
   "execution_count": 39,
   "id": "f8cb51ac",
   "metadata": {},
   "outputs": [
    {
     "name": "stdout",
     "output_type": "stream",
     "text": [
      "['/Users/nori/Documents/GitHub/encount-light/python/tf-movenet',\n",
      " '/Users/nori/.pyenv/versions/3.9.16/lib/python39.zip',\n",
      " '/Users/nori/.pyenv/versions/3.9.16/lib/python3.9',\n",
      " '/Users/nori/.pyenv/versions/3.9.16/lib/python3.9/lib-dynload',\n",
      " '',\n",
      " '/Users/nori/.local/lib/python3.9/site-packages',\n",
      " '/Users/nori/.pyenv/versions/3.9.16/lib/python3.9/site-packages',\n",
      " '/Users/nori/Documents/GitHub/encount-light/python/tf-movenet',\n",
      " '/Users/nori/Documents/GitHub/encount-light/python/tf-movenet/../',\n",
      " '/Users/nori/Documents/GitHub/encount-light/python/tf-movenet/ml/',\n",
      " '/Users/nori/Documents/GitHub/encount-light/python/tf-movenet./ml/',\n",
      " '/Users/nori/Documents/GitHub/encount-light/python/tf-movenet./ml/',\n",
      " '/Users/nori/Documents/GitHub/encount-light/python/tf-movenet/ml/',\n",
      " '/Users/nori/Documents/GitHub/encount-light/python/tf-movenet/../',\n",
      " '/Users/nori/Documents/GitHub/encount-light/python/tf-movenet',\n",
      " '/Users/nori/Documents/GitHub/encount-light/python/tf-movenet',\n",
      " '/Users/nori/Documents/GitHub/encount-light/python/tf-movenet',\n",
      " '/ml',\n",
      " '/Users/nori/Documents/GitHub/encount-light/python/tf-movenet',\n",
      " '/Users/nori/Documents/GitHub/encount-light/python/tf-movenet',\n",
      " '/Users/nori/Documents/GitHub/encount-light/python/tf-movenet',\n",
      " '/Users/nori/Documents/GitHub/encount-light/python/tf-movenet',\n",
      " '/Users/nori/Documents/GitHub/encount-light/python/tf-movenet',\n",
      " '/Users/nori/Documents/GitHub/encount-light/python/tf-movenet',\n",
      " '/Users/nori/Documents/GitHub/encount-light/python/tf-movenet',\n",
      " '/Users/nori/Documents/GitHub/encount-light/python/tf-movenet']\n"
     ]
    }
   ],
   "source": [
    "import sys\n",
    "import pprint\n",
    "pprint.pprint(sys.path)"
   ]
  },
  {
   "cell_type": "code",
   "execution_count": 3,
   "id": "b43ec471",
   "metadata": {},
   "outputs": [],
   "source": [
    "from ml import Classifier\n",
    "from ml import Movenet\n",
    "from ml import MoveNetMultiPose\n",
    "from ml import Posenet"
   ]
  },
  {
   "cell_type": "markdown",
   "id": "8ea2c44c",
   "metadata": {},
   "source": [
    "上記部分はmodule not found errorがでていたがカーネル再起動で通った"
   ]
  }
 ],
 "metadata": {
  "kernelspec": {
   "display_name": "Python 3 (ipykernel)",
   "language": "python",
   "name": "python3"
  },
  "language_info": {
   "codemirror_mode": {
    "name": "ipython",
    "version": 3
   },
   "file_extension": ".py",
   "mimetype": "text/x-python",
   "name": "python",
   "nbconvert_exporter": "python",
   "pygments_lexer": "ipython3",
   "version": "3.9.16"
  }
 },
 "nbformat": 4,
 "nbformat_minor": 5
}
