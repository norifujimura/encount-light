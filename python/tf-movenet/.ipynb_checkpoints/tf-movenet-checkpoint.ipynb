{
 "cells": [
  {
   "cell_type": "markdown",
   "id": "a42dbae0",
   "metadata": {},
   "source": [
    "https://www.tensorflow.org/lite/examples/pose_estimation/overview?hl=ja"
   ]
  },
  {
   "cell_type": "markdown",
   "id": "01c2ba3a",
   "metadata": {},
   "source": [
    "https://blog.tensorflow.org/2021/08/pose-estimation-and-classification-on-edge-devices-with-MoveNet-and-TensorFlow-Lite.html?hl=ja&_gl=1*xgz6jk*_ga*MTYwMDI2MzYzMC4xNzA0MTcwODE4*_ga_W0YLR4190T*MTcwNjUxOTU5NC41LjEuMTcwNjUyMDE0OC4wLjAuMA.."
   ]
  },
  {
   "cell_type": "markdown",
   "id": "06b0bd12",
   "metadata": {},
   "source": [
    "TFlite MOvenet RasPi sample code"
   ]
  },
  {
   "cell_type": "markdown",
   "id": "7c9bcb01",
   "metadata": {},
   "source": [
    "https://github.com/tensorflow/examples/tree/master/lite/examples/pose_estimation/raspberry_pi#run-the-pose-classification-sample"
   ]
  },
  {
   "cell_type": "markdown",
   "id": "326b2cea",
   "metadata": {},
   "source": [
    "Install dependencies. \n",
    "Run this script to install the Python dependencies, and download the TFLite models. sh setup.sh\n",
    "\n",
    "for the error following:\n",
    "ERROR: Could not find a version that satisfies the requirement tflite-runtime>=2.7.0 (from versions: none)\n",
    "https://temcee.hatenablog.com/entry/tensorflow_install_error"
   ]
  },
  {
   "cell_type": "code",
   "execution_count": null,
   "id": "60a272e7",
   "metadata": {},
   "outputs": [],
   "source": [
    "! sh setup.sh"
   ]
  },
  {
   "cell_type": "code",
   "execution_count": null,
   "id": "145fbbce",
   "metadata": {},
   "outputs": [],
   "source": [
    "python3 pose_estimation.py"
   ]
  },
  {
   "cell_type": "code",
   "execution_count": null,
   "id": "081fa5b5",
   "metadata": {},
   "outputs": [],
   "source": [
    "! python3 pose_estimation.py"
   ]
  },
  {
   "cell_type": "markdown",
   "id": "8ea2c44c",
   "metadata": {},
   "source": [
    "上記部分はmodule not found errorがでていたがカーネル再起動で通った"
   ]
  },
  {
   "cell_type": "code",
   "execution_count": 3,
   "id": "26119a2d",
   "metadata": {},
   "outputs": [],
   "source": [
    "\"\"\"Main script to run pose classification and pose estimation.\"\"\"\n",
    "import argparse\n",
    "import logging\n",
    "import sys\n",
    "import time\n",
    "\n",
    "import cv2\n",
    "\n",
    "import utils\n",
    "from ml import Classifier\n",
    "from ml import Movenet\n",
    "from ml import MoveNetMultiPose\n",
    "from ml import Posenet"
   ]
  },
  {
   "cell_type": "code",
   "execution_count": 18,
   "id": "90983c66",
   "metadata": {},
   "outputs": [],
   "source": [
    "def myRun(camera_id: int, width: int, height: int) -> None:\n",
    "    model = 'movenet_multipose'\n",
    "    pose_detector = MoveNetMultiPose(model,'bounding_box',512)\n",
    "\n",
    "    # Variables to calculate FPS\n",
    "    counter, fps = 0, 0\n",
    "    start_time = time.time()\n",
    "\n",
    "    # Start capturing video input from the camera\n",
    "    cap = cv2.VideoCapture(camera_id)\n",
    "    cap.set(cv2.CAP_PROP_FRAME_WIDTH, width)\n",
    "    cap.set(cv2.CAP_PROP_FRAME_HEIGHT, height)\n",
    "\n",
    "    # Visualization parameters\n",
    "    row_size = 20  # pixels\n",
    "    left_margin = 24  # pixels\n",
    "    text_color = (0, 0, 255)  # red\n",
    "    font_size = 1\n",
    "    font_thickness = 1\n",
    "    classification_results_to_show = 3\n",
    "    fps_avg_frame_count = 10\n",
    "    keypoint_detection_threshold_for_classifier = 0.1\n",
    "    classifier = None\n",
    "\n",
    "    # Continuously capture images from the camera and run inference\n",
    "    while cap.isOpened():\n",
    "        success, image = cap.read()\n",
    "        if not success:\n",
    "          sys.exit(\n",
    "              'ERROR: Unable to read from webcam. Please verify your webcam settings.'\n",
    "          )\n",
    "\n",
    "        counter += 1\n",
    "        image = cv2.flip(image, 1)\n",
    "        persons = pose_detector.detect(image)\n",
    "\n",
    "        # Draw keypoints and edges on input image\n",
    "        image = utils.visualize(image, persons)\n",
    "\n",
    "        # Calculate the FPS\n",
    "        if counter % fps_avg_frame_count == 0:\n",
    "          end_time = time.time()\n",
    "          fps = fps_avg_frame_count / (end_time - start_time)\n",
    "          start_time = time.time()\n",
    "\n",
    "        # Show the FPS\n",
    "        fps_text = 'FPS = ' + str(int(fps))\n",
    "        text_location = (left_margin, row_size)\n",
    "        cv2.putText(image, fps_text, text_location, cv2.FONT_HERSHEY_PLAIN,\n",
    "                    font_size, text_color, font_thickness)\n",
    "\n",
    "        # Stop the program if the ESC key is pressed.\n",
    "        if cv2.waitKey(1) == 27:\n",
    "          break\n",
    "        cv2.imshow(model, image)\n",
    "\n",
    "    cap.release()\n",
    "    cv2.destroyAllWindows()"
   ]
  },
  {
   "cell_type": "code",
   "execution_count": null,
   "id": "237a7e57",
   "metadata": {},
   "outputs": [],
   "source": [
    "myRun(1, 1280, 720)"
   ]
  },
  {
   "cell_type": "code",
   "execution_count": null,
   "id": "5306ba0c",
   "metadata": {},
   "outputs": [],
   "source": []
  },
  {
   "cell_type": "code",
   "execution_count": null,
   "id": "d207b725",
   "metadata": {},
   "outputs": [],
   "source": []
  }
 ],
 "metadata": {
  "kernelspec": {
   "display_name": "Python 3 (ipykernel)",
   "language": "python",
   "name": "python3"
  },
  "language_info": {
   "codemirror_mode": {
    "name": "ipython",
    "version": 3
   },
   "file_extension": ".py",
   "mimetype": "text/x-python",
   "name": "python",
   "nbconvert_exporter": "python",
   "pygments_lexer": "ipython3",
   "version": "3.9.16"
  }
 },
 "nbformat": 4,
 "nbformat_minor": 5
}
