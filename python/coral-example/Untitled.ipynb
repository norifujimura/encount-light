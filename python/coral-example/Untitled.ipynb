{
 "cells": [
  {
   "cell_type": "code",
   "execution_count": 2,
   "id": "18b7fdd9",
   "metadata": {},
   "outputs": [
    {
     "name": "stdout",
     "output_type": "stream",
     "text": [
      "\u001b[31mERROR: Could not find a version that satisfies the requirement edgetpu (from versions: none)\u001b[0m\u001b[31m\n",
      "\u001b[0m\u001b[31mERROR: No matching distribution found for edgetpu\u001b[0m\u001b[31m\n",
      "\u001b[0m\n",
      "\u001b[1m[\u001b[0m\u001b[34;49mnotice\u001b[0m\u001b[1;39;49m]\u001b[0m\u001b[39;49m A new release of pip is available: \u001b[0m\u001b[31;49m23.3.2\u001b[0m\u001b[39;49m -> \u001b[0m\u001b[32;49m24.0\u001b[0m\n",
      "\u001b[1m[\u001b[0m\u001b[34;49mnotice\u001b[0m\u001b[1;39;49m]\u001b[0m\u001b[39;49m To update, run: \u001b[0m\u001b[32;49mpip install --upgrade pip\u001b[0m\n"
     ]
    }
   ],
   "source": [
    "! pip3 install edgetpu"
   ]
  },
  {
   "cell_type": "code",
   "execution_count": 1,
   "id": "f0cdba4d",
   "metadata": {},
   "outputs": [
    {
     "ename": "ModuleNotFoundError",
     "evalue": "No module named 'edgetpu'",
     "output_type": "error",
     "traceback": [
      "\u001b[0;31m---------------------------------------------------------------------------\u001b[0m",
      "\u001b[0;31mModuleNotFoundError\u001b[0m                       Traceback (most recent call last)",
      "Cell \u001b[0;32mIn[1], line 7\u001b[0m\n\u001b[1;32m      5\u001b[0m \u001b[38;5;28;01mimport\u001b[39;00m \u001b[38;5;21;01mcv2\u001b[39;00m\n\u001b[1;32m      6\u001b[0m \u001b[38;5;28;01mimport\u001b[39;00m \u001b[38;5;21;01mnumpy\u001b[39;00m \u001b[38;5;28;01mas\u001b[39;00m \u001b[38;5;21;01mnp\u001b[39;00m\n\u001b[0;32m----> 7\u001b[0m \u001b[38;5;28;01mfrom\u001b[39;00m \u001b[38;5;21;01medgetpu\u001b[39;00m\u001b[38;5;21;01m.\u001b[39;00m\u001b[38;5;21;01mbasic\u001b[39;00m\u001b[38;5;21;01m.\u001b[39;00m\u001b[38;5;21;01mbasic_engine\u001b[39;00m \u001b[38;5;28;01mimport\u001b[39;00m BasicEngine\n\u001b[1;32m      8\u001b[0m \u001b[38;5;28;01mfrom\u001b[39;00m \u001b[38;5;21;01mposenet\u001b[39;00m\u001b[38;5;21;01m.\u001b[39;00m\u001b[38;5;21;01mdecode_multi\u001b[39;00m \u001b[38;5;28;01mimport\u001b[39;00m decode_multiple_poses\n\u001b[1;32m     10\u001b[0m MODEL \u001b[38;5;241m=\u001b[39m \u001b[38;5;124m\"\u001b[39m\u001b[38;5;124m/tmp/output_model.tflite\u001b[39m\u001b[38;5;124m\"\u001b[39m\n",
      "\u001b[0;31mModuleNotFoundError\u001b[0m: No module named 'edgetpu'"
     ]
    }
   ],
   "source": [
    "#!/usr/bin/env python\n",
    "#\n",
    "# Test Posenet model with custom decoding\n",
    "# ----------------------------------------------------------------------------------------------------------------------\n",
    "import cv2\n",
    "import numpy as np\n",
    "from edgetpu.basic.basic_engine import BasicEngine\n",
    "from posenet.decode_multi import decode_multiple_poses\n",
    "\n",
    "MODEL = \"/tmp/output_model.tflite\"\n",
    "OUTPUT_STRIDE = 16\n",
    "NUM_KEYPOINTS = 17\n",
    "\n",
    "\n",
    "def extract_outputs(outputs, engine):\n",
    "    \"\"\"Extract heatmaps, offsets, and displacement vectors\"\"\"\n",
    "\n",
    "    # Input image and heatmap dimensions\n",
    "    _, img_h, img_w, channels = engine.get_input_tensor_shape()\n",
    "    height = int(1 + (img_w - 1) / OUTPUT_STRIDE)\n",
    "    width = int(1 + (img_h - 1) / OUTPUT_STRIDE)\n",
    "\n",
    "    # Reshape output tensors\n",
    "    out_sz = engine.get_all_output_tensors_sizes()\n",
    "\n",
    "    # Heatmaps\n",
    "    ofs = 0\n",
    "    heatmaps = outputs[ofs: ofs + out_sz[0]].reshape(height, width, NUM_KEYPOINTS)\n",
    "    ofs += out_sz[0]\n",
    "\n",
    "    # Offsets - [height, width, 2, 17]\n",
    "    offsets = outputs[ofs: ofs + out_sz[1]].reshape(height, width, NUM_KEYPOINTS * 2)\n",
    "    ofs += out_sz[1]\n",
    "\n",
    "    # Displacement vectors (FWD, BWD): size [height, width, 4, 16], columns [fwd_i, fwd_j, bwd_i, bwd_j]\n",
    "    raw_dsp = outputs[ofs: ofs + out_sz[2]].reshape(height, width, 4, -1)\n",
    "    fwd = raw_dsp[:, :, 0:2, :]\n",
    "    bwd = raw_dsp[:, :, 2:4, :]\n",
    "\n",
    "    return {\n",
    "        'heatmaps': 1. / (1. + np.exp(-heatmaps)),  # apply sigmoid function to heatmaps\n",
    "        'offsets': offsets,\n",
    "        'displacements_fwd': fwd,\n",
    "        'displacements_bwd': bwd\n",
    "    }\n",
    "\n",
    "\n",
    "# ----------------------------------------------------------------------------------------------------------------------\n",
    "# Testing\n",
    "# ----------------------------------------------------------------------------------------------------------------------\n",
    "INPUT_IMG = '/home/gianni/stura/embed/coral/python/project-posenet/couple.jpg'\n",
    "\n",
    "def main():\n",
    "    # Read input image\n",
    "    frame = cv2.imread(INPUT_IMG)\n",
    "    frame = cv2.resize(frame, (481, 353))\n",
    "    frame = cv2.cvtColor(frame, cv2.COLOR_BGR2RGB)\n",
    "\n",
    "    # Instantiate inference engine\n",
    "    engine = BasicEngine(MODEL)\n",
    "    inference_time, output = engine.run_inference(frame.flatten())\n",
    "    print('Done, inference time: %d msec, output shape: %s' % (inference_time, output.shape))\n",
    "\n",
    "    # Decode pose\n",
    "    out = extract_outputs(output, engine)\n",
    "    pose_scores, keypoint_scores, keypoint_coords = decode_multiple_poses(\n",
    "        out['heatmaps'],\n",
    "        out['offsets'],\n",
    "        out['displacements_fwd'],\n",
    "        out['displacements_bwd'],\n",
    "        OUTPUT_STRIDE,\n",
    "        max_pose_detections=10, score_threshold=0.5, nms_radius=20, min_pose_score=0.1\n",
    "    )\n",
    "    print('pose_scores: %s' % str(pose_scores))\n",
    "\n",
    "\n",
    "if __name__ == '__main__':\n",
    "    main()"
   ]
  },
  {
   "cell_type": "code",
   "execution_count": null,
   "id": "692fc745",
   "metadata": {},
   "outputs": [],
   "source": []
  }
 ],
 "metadata": {
  "kernelspec": {
   "display_name": "Python 3 (ipykernel)",
   "language": "python",
   "name": "python3"
  },
  "language_info": {
   "codemirror_mode": {
    "name": "ipython",
    "version": 3
   },
   "file_extension": ".py",
   "mimetype": "text/x-python",
   "name": "python",
   "nbconvert_exporter": "python",
   "pygments_lexer": "ipython3",
   "version": "3.9.16"
  }
 },
 "nbformat": 4,
 "nbformat_minor": 5
}
